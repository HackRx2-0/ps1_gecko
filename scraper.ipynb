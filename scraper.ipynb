{
 "cells": [
  {
   "cell_type": "code",
   "execution_count": 21,
   "metadata": {},
   "outputs": [
    {
     "name": "stdout",
     "output_type": "stream",
     "text": [
      "262\n"
     ]
    }
   ],
   "source": [
    "from selenium import webdriver \n",
    "import time\n",
    "from selenium.webdriver.chrome.options import Options\n",
    "chrome_options = Options()\n",
    "chrome_options.add_argument(\"--disable-extensions\")\n",
    "#chrome_options.add_argument(\"--disable-gpu\")\n",
    "# chrome_options.add_argument(\"--headless\")\n",
    "# chrome_options.headless = True # also works\n",
    "driver = webdriver.Chrome(options=chrome_options)\n",
    "start_url = \"https://www.bajajfinservmarkets.in/discover/journals/blogs/page/1/\"\n",
    "driver.get(start_url)\n",
    "time.sleep(5)\n",
    "# print(driver.page_source.encode(\"utf-8\"))\n",
    "a = driver.find_elements_by_class_name(\"page-link\")\n",
    "pages = int(a[-2].get_attribute('innerHTML'))\n",
    "# print(a)\n",
    "print(pages)"
   ]
  },
  {
   "cell_type": "code",
   "execution_count": 55,
   "metadata": {},
   "outputs": [
    {
     "ename": "KeyboardInterrupt",
     "evalue": "",
     "output_type": "error",
     "traceback": [
      "\u001b[1;31m---------------------------------------------------------------------------\u001b[0m",
      "\u001b[1;31mKeyboardInterrupt\u001b[0m                         Traceback (most recent call last)",
      "\u001b[1;32m<ipython-input-55-1142758d14ab>\u001b[0m in \u001b[0;36m<module>\u001b[1;34m\u001b[0m\n\u001b[0;32m      3\u001b[0m \u001b[1;32mfor\u001b[0m \u001b[0mpage\u001b[0m \u001b[1;32min\u001b[0m \u001b[0mrange\u001b[0m\u001b[1;33m(\u001b[0m\u001b[1;36m1\u001b[0m\u001b[1;33m,\u001b[0m \u001b[0mpages\u001b[0m\u001b[1;33m+\u001b[0m\u001b[1;36m1\u001b[0m\u001b[1;33m)\u001b[0m\u001b[1;33m:\u001b[0m\u001b[1;33m\u001b[0m\u001b[1;33m\u001b[0m\u001b[0m\n\u001b[0;32m      4\u001b[0m     \u001b[0mpath\u001b[0m \u001b[1;33m=\u001b[0m \u001b[1;34m\"https://www.bajajfinservmarkets.in/discover/journals/blogs/page/\"\u001b[0m \u001b[1;33m+\u001b[0m \u001b[0mstr\u001b[0m\u001b[1;33m(\u001b[0m\u001b[0mpage\u001b[0m\u001b[1;33m)\u001b[0m \u001b[1;33m+\u001b[0m \u001b[1;34m\"/\"\u001b[0m\u001b[1;33m\u001b[0m\u001b[1;33m\u001b[0m\u001b[0m\n\u001b[1;32m----> 5\u001b[1;33m     \u001b[0mdriver\u001b[0m\u001b[1;33m.\u001b[0m\u001b[0mget\u001b[0m\u001b[1;33m(\u001b[0m\u001b[0mpath\u001b[0m\u001b[1;33m)\u001b[0m\u001b[1;33m\u001b[0m\u001b[1;33m\u001b[0m\u001b[0m\n\u001b[0m\u001b[0;32m      6\u001b[0m     \u001b[0mtime\u001b[0m\u001b[1;33m.\u001b[0m\u001b[0msleep\u001b[0m\u001b[1;33m(\u001b[0m\u001b[1;36m0.5\u001b[0m\u001b[1;33m)\u001b[0m\u001b[1;33m\u001b[0m\u001b[1;33m\u001b[0m\u001b[0m\n\u001b[0;32m      7\u001b[0m     \u001b[0msection\u001b[0m \u001b[1;33m=\u001b[0m \u001b[0mdriver\u001b[0m\u001b[1;33m.\u001b[0m\u001b[0mfind_elements_by_class_name\u001b[0m\u001b[1;33m(\u001b[0m\u001b[1;34m\"articles-listing\"\u001b[0m\u001b[1;33m)\u001b[0m\u001b[1;33m[\u001b[0m\u001b[1;36m0\u001b[0m\u001b[1;33m]\u001b[0m\u001b[1;33m\u001b[0m\u001b[1;33m\u001b[0m\u001b[0m\n",
      "\u001b[1;32mD:\\Programming\\Anaconda3\\lib\\site-packages\\selenium\\webdriver\\remote\\webdriver.py\u001b[0m in \u001b[0;36mget\u001b[1;34m(self, url)\u001b[0m\n\u001b[0;32m    331\u001b[0m         \u001b[0mLoads\u001b[0m \u001b[0ma\u001b[0m \u001b[0mweb\u001b[0m \u001b[0mpage\u001b[0m \u001b[1;32min\u001b[0m \u001b[0mthe\u001b[0m \u001b[0mcurrent\u001b[0m \u001b[0mbrowser\u001b[0m \u001b[0msession\u001b[0m\u001b[1;33m.\u001b[0m\u001b[1;33m\u001b[0m\u001b[1;33m\u001b[0m\u001b[0m\n\u001b[0;32m    332\u001b[0m         \"\"\"\n\u001b[1;32m--> 333\u001b[1;33m         \u001b[0mself\u001b[0m\u001b[1;33m.\u001b[0m\u001b[0mexecute\u001b[0m\u001b[1;33m(\u001b[0m\u001b[0mCommand\u001b[0m\u001b[1;33m.\u001b[0m\u001b[0mGET\u001b[0m\u001b[1;33m,\u001b[0m \u001b[1;33m{\u001b[0m\u001b[1;34m'url'\u001b[0m\u001b[1;33m:\u001b[0m \u001b[0murl\u001b[0m\u001b[1;33m}\u001b[0m\u001b[1;33m)\u001b[0m\u001b[1;33m\u001b[0m\u001b[1;33m\u001b[0m\u001b[0m\n\u001b[0m\u001b[0;32m    334\u001b[0m \u001b[1;33m\u001b[0m\u001b[0m\n\u001b[0;32m    335\u001b[0m     \u001b[1;33m@\u001b[0m\u001b[0mproperty\u001b[0m\u001b[1;33m\u001b[0m\u001b[1;33m\u001b[0m\u001b[0m\n",
      "\u001b[1;32mD:\\Programming\\Anaconda3\\lib\\site-packages\\selenium\\webdriver\\remote\\webdriver.py\u001b[0m in \u001b[0;36mexecute\u001b[1;34m(self, driver_command, params)\u001b[0m\n\u001b[0;32m    317\u001b[0m \u001b[1;33m\u001b[0m\u001b[0m\n\u001b[0;32m    318\u001b[0m         \u001b[0mparams\u001b[0m \u001b[1;33m=\u001b[0m \u001b[0mself\u001b[0m\u001b[1;33m.\u001b[0m\u001b[0m_wrap_value\u001b[0m\u001b[1;33m(\u001b[0m\u001b[0mparams\u001b[0m\u001b[1;33m)\u001b[0m\u001b[1;33m\u001b[0m\u001b[1;33m\u001b[0m\u001b[0m\n\u001b[1;32m--> 319\u001b[1;33m         \u001b[0mresponse\u001b[0m \u001b[1;33m=\u001b[0m \u001b[0mself\u001b[0m\u001b[1;33m.\u001b[0m\u001b[0mcommand_executor\u001b[0m\u001b[1;33m.\u001b[0m\u001b[0mexecute\u001b[0m\u001b[1;33m(\u001b[0m\u001b[0mdriver_command\u001b[0m\u001b[1;33m,\u001b[0m \u001b[0mparams\u001b[0m\u001b[1;33m)\u001b[0m\u001b[1;33m\u001b[0m\u001b[1;33m\u001b[0m\u001b[0m\n\u001b[0m\u001b[0;32m    320\u001b[0m         \u001b[1;32mif\u001b[0m \u001b[0mresponse\u001b[0m\u001b[1;33m:\u001b[0m\u001b[1;33m\u001b[0m\u001b[1;33m\u001b[0m\u001b[0m\n\u001b[0;32m    321\u001b[0m             \u001b[0mself\u001b[0m\u001b[1;33m.\u001b[0m\u001b[0merror_handler\u001b[0m\u001b[1;33m.\u001b[0m\u001b[0mcheck_response\u001b[0m\u001b[1;33m(\u001b[0m\u001b[0mresponse\u001b[0m\u001b[1;33m)\u001b[0m\u001b[1;33m\u001b[0m\u001b[1;33m\u001b[0m\u001b[0m\n",
      "\u001b[1;32mD:\\Programming\\Anaconda3\\lib\\site-packages\\selenium\\webdriver\\remote\\remote_connection.py\u001b[0m in \u001b[0;36mexecute\u001b[1;34m(self, command, params)\u001b[0m\n\u001b[0;32m    372\u001b[0m         \u001b[0mdata\u001b[0m \u001b[1;33m=\u001b[0m \u001b[0mutils\u001b[0m\u001b[1;33m.\u001b[0m\u001b[0mdump_json\u001b[0m\u001b[1;33m(\u001b[0m\u001b[0mparams\u001b[0m\u001b[1;33m)\u001b[0m\u001b[1;33m\u001b[0m\u001b[1;33m\u001b[0m\u001b[0m\n\u001b[0;32m    373\u001b[0m         \u001b[0murl\u001b[0m \u001b[1;33m=\u001b[0m \u001b[1;34m'%s%s'\u001b[0m \u001b[1;33m%\u001b[0m \u001b[1;33m(\u001b[0m\u001b[0mself\u001b[0m\u001b[1;33m.\u001b[0m\u001b[0m_url\u001b[0m\u001b[1;33m,\u001b[0m \u001b[0mpath\u001b[0m\u001b[1;33m)\u001b[0m\u001b[1;33m\u001b[0m\u001b[1;33m\u001b[0m\u001b[0m\n\u001b[1;32m--> 374\u001b[1;33m         \u001b[1;32mreturn\u001b[0m \u001b[0mself\u001b[0m\u001b[1;33m.\u001b[0m\u001b[0m_request\u001b[0m\u001b[1;33m(\u001b[0m\u001b[0mcommand_info\u001b[0m\u001b[1;33m[\u001b[0m\u001b[1;36m0\u001b[0m\u001b[1;33m]\u001b[0m\u001b[1;33m,\u001b[0m \u001b[0murl\u001b[0m\u001b[1;33m,\u001b[0m \u001b[0mbody\u001b[0m\u001b[1;33m=\u001b[0m\u001b[0mdata\u001b[0m\u001b[1;33m)\u001b[0m\u001b[1;33m\u001b[0m\u001b[1;33m\u001b[0m\u001b[0m\n\u001b[0m\u001b[0;32m    375\u001b[0m \u001b[1;33m\u001b[0m\u001b[0m\n\u001b[0;32m    376\u001b[0m     \u001b[1;32mdef\u001b[0m \u001b[0m_request\u001b[0m\u001b[1;33m(\u001b[0m\u001b[0mself\u001b[0m\u001b[1;33m,\u001b[0m \u001b[0mmethod\u001b[0m\u001b[1;33m,\u001b[0m \u001b[0murl\u001b[0m\u001b[1;33m,\u001b[0m \u001b[0mbody\u001b[0m\u001b[1;33m=\u001b[0m\u001b[1;32mNone\u001b[0m\u001b[1;33m)\u001b[0m\u001b[1;33m:\u001b[0m\u001b[1;33m\u001b[0m\u001b[1;33m\u001b[0m\u001b[0m\n",
      "\u001b[1;32mD:\\Programming\\Anaconda3\\lib\\site-packages\\selenium\\webdriver\\remote\\remote_connection.py\u001b[0m in \u001b[0;36m_request\u001b[1;34m(self, method, url, body)\u001b[0m\n\u001b[0;32m    395\u001b[0m \u001b[1;33m\u001b[0m\u001b[0m\n\u001b[0;32m    396\u001b[0m         \u001b[1;32mif\u001b[0m \u001b[0mself\u001b[0m\u001b[1;33m.\u001b[0m\u001b[0mkeep_alive\u001b[0m\u001b[1;33m:\u001b[0m\u001b[1;33m\u001b[0m\u001b[1;33m\u001b[0m\u001b[0m\n\u001b[1;32m--> 397\u001b[1;33m             \u001b[0mresp\u001b[0m \u001b[1;33m=\u001b[0m \u001b[0mself\u001b[0m\u001b[1;33m.\u001b[0m\u001b[0m_conn\u001b[0m\u001b[1;33m.\u001b[0m\u001b[0mrequest\u001b[0m\u001b[1;33m(\u001b[0m\u001b[0mmethod\u001b[0m\u001b[1;33m,\u001b[0m \u001b[0murl\u001b[0m\u001b[1;33m,\u001b[0m \u001b[0mbody\u001b[0m\u001b[1;33m=\u001b[0m\u001b[0mbody\u001b[0m\u001b[1;33m,\u001b[0m \u001b[0mheaders\u001b[0m\u001b[1;33m=\u001b[0m\u001b[0mheaders\u001b[0m\u001b[1;33m)\u001b[0m\u001b[1;33m\u001b[0m\u001b[1;33m\u001b[0m\u001b[0m\n\u001b[0m\u001b[0;32m    398\u001b[0m \u001b[1;33m\u001b[0m\u001b[0m\n\u001b[0;32m    399\u001b[0m             \u001b[0mstatuscode\u001b[0m \u001b[1;33m=\u001b[0m \u001b[0mresp\u001b[0m\u001b[1;33m.\u001b[0m\u001b[0mstatus\u001b[0m\u001b[1;33m\u001b[0m\u001b[1;33m\u001b[0m\u001b[0m\n",
      "\u001b[1;32mD:\\Programming\\Anaconda3\\lib\\site-packages\\urllib3\\request.py\u001b[0m in \u001b[0;36mrequest\u001b[1;34m(self, method, url, fields, headers, **urlopen_kw)\u001b[0m\n\u001b[0;32m     77\u001b[0m             )\n\u001b[0;32m     78\u001b[0m         \u001b[1;32melse\u001b[0m\u001b[1;33m:\u001b[0m\u001b[1;33m\u001b[0m\u001b[1;33m\u001b[0m\u001b[0m\n\u001b[1;32m---> 79\u001b[1;33m             return self.request_encode_body(\n\u001b[0m\u001b[0;32m     80\u001b[0m                 \u001b[0mmethod\u001b[0m\u001b[1;33m,\u001b[0m \u001b[0murl\u001b[0m\u001b[1;33m,\u001b[0m \u001b[0mfields\u001b[0m\u001b[1;33m=\u001b[0m\u001b[0mfields\u001b[0m\u001b[1;33m,\u001b[0m \u001b[0mheaders\u001b[0m\u001b[1;33m=\u001b[0m\u001b[0mheaders\u001b[0m\u001b[1;33m,\u001b[0m \u001b[1;33m**\u001b[0m\u001b[0murlopen_kw\u001b[0m\u001b[1;33m\u001b[0m\u001b[1;33m\u001b[0m\u001b[0m\n\u001b[0;32m     81\u001b[0m             )\n",
      "\u001b[1;32mD:\\Programming\\Anaconda3\\lib\\site-packages\\urllib3\\request.py\u001b[0m in \u001b[0;36mrequest_encode_body\u001b[1;34m(self, method, url, fields, headers, encode_multipart, multipart_boundary, **urlopen_kw)\u001b[0m\n\u001b[0;32m    169\u001b[0m         \u001b[0mextra_kw\u001b[0m\u001b[1;33m.\u001b[0m\u001b[0mupdate\u001b[0m\u001b[1;33m(\u001b[0m\u001b[0murlopen_kw\u001b[0m\u001b[1;33m)\u001b[0m\u001b[1;33m\u001b[0m\u001b[1;33m\u001b[0m\u001b[0m\n\u001b[0;32m    170\u001b[0m \u001b[1;33m\u001b[0m\u001b[0m\n\u001b[1;32m--> 171\u001b[1;33m         \u001b[1;32mreturn\u001b[0m \u001b[0mself\u001b[0m\u001b[1;33m.\u001b[0m\u001b[0murlopen\u001b[0m\u001b[1;33m(\u001b[0m\u001b[0mmethod\u001b[0m\u001b[1;33m,\u001b[0m \u001b[0murl\u001b[0m\u001b[1;33m,\u001b[0m \u001b[1;33m**\u001b[0m\u001b[0mextra_kw\u001b[0m\u001b[1;33m)\u001b[0m\u001b[1;33m\u001b[0m\u001b[1;33m\u001b[0m\u001b[0m\n\u001b[0m",
      "\u001b[1;32mD:\\Programming\\Anaconda3\\lib\\site-packages\\urllib3\\poolmanager.py\u001b[0m in \u001b[0;36murlopen\u001b[1;34m(self, method, url, redirect, **kw)\u001b[0m\n\u001b[0;32m    334\u001b[0m             \u001b[0mresponse\u001b[0m \u001b[1;33m=\u001b[0m \u001b[0mconn\u001b[0m\u001b[1;33m.\u001b[0m\u001b[0murlopen\u001b[0m\u001b[1;33m(\u001b[0m\u001b[0mmethod\u001b[0m\u001b[1;33m,\u001b[0m \u001b[0murl\u001b[0m\u001b[1;33m,\u001b[0m \u001b[1;33m**\u001b[0m\u001b[0mkw\u001b[0m\u001b[1;33m)\u001b[0m\u001b[1;33m\u001b[0m\u001b[1;33m\u001b[0m\u001b[0m\n\u001b[0;32m    335\u001b[0m         \u001b[1;32melse\u001b[0m\u001b[1;33m:\u001b[0m\u001b[1;33m\u001b[0m\u001b[1;33m\u001b[0m\u001b[0m\n\u001b[1;32m--> 336\u001b[1;33m             \u001b[0mresponse\u001b[0m \u001b[1;33m=\u001b[0m \u001b[0mconn\u001b[0m\u001b[1;33m.\u001b[0m\u001b[0murlopen\u001b[0m\u001b[1;33m(\u001b[0m\u001b[0mmethod\u001b[0m\u001b[1;33m,\u001b[0m \u001b[0mu\u001b[0m\u001b[1;33m.\u001b[0m\u001b[0mrequest_uri\u001b[0m\u001b[1;33m,\u001b[0m \u001b[1;33m**\u001b[0m\u001b[0mkw\u001b[0m\u001b[1;33m)\u001b[0m\u001b[1;33m\u001b[0m\u001b[1;33m\u001b[0m\u001b[0m\n\u001b[0m\u001b[0;32m    337\u001b[0m \u001b[1;33m\u001b[0m\u001b[0m\n\u001b[0;32m    338\u001b[0m         \u001b[0mredirect_location\u001b[0m \u001b[1;33m=\u001b[0m \u001b[0mredirect\u001b[0m \u001b[1;32mand\u001b[0m \u001b[0mresponse\u001b[0m\u001b[1;33m.\u001b[0m\u001b[0mget_redirect_location\u001b[0m\u001b[1;33m(\u001b[0m\u001b[1;33m)\u001b[0m\u001b[1;33m\u001b[0m\u001b[1;33m\u001b[0m\u001b[0m\n",
      "\u001b[1;32mD:\\Programming\\Anaconda3\\lib\\site-packages\\urllib3\\connectionpool.py\u001b[0m in \u001b[0;36murlopen\u001b[1;34m(self, method, url, body, headers, retries, redirect, assert_same_host, timeout, pool_timeout, release_conn, chunked, body_pos, **response_kw)\u001b[0m\n\u001b[0;32m    668\u001b[0m \u001b[1;33m\u001b[0m\u001b[0m\n\u001b[0;32m    669\u001b[0m             \u001b[1;31m# Make the request on the httplib connection object.\u001b[0m\u001b[1;33m\u001b[0m\u001b[1;33m\u001b[0m\u001b[1;33m\u001b[0m\u001b[0m\n\u001b[1;32m--> 670\u001b[1;33m             httplib_response = self._make_request(\n\u001b[0m\u001b[0;32m    671\u001b[0m                 \u001b[0mconn\u001b[0m\u001b[1;33m,\u001b[0m\u001b[1;33m\u001b[0m\u001b[1;33m\u001b[0m\u001b[0m\n\u001b[0;32m    672\u001b[0m                 \u001b[0mmethod\u001b[0m\u001b[1;33m,\u001b[0m\u001b[1;33m\u001b[0m\u001b[1;33m\u001b[0m\u001b[0m\n",
      "\u001b[1;32mD:\\Programming\\Anaconda3\\lib\\site-packages\\urllib3\\connectionpool.py\u001b[0m in \u001b[0;36m_make_request\u001b[1;34m(self, conn, method, url, timeout, chunked, **httplib_request_kw)\u001b[0m\n\u001b[0;32m    424\u001b[0m                     \u001b[1;31m# Python 3 (including for exceptions like SystemExit).\u001b[0m\u001b[1;33m\u001b[0m\u001b[1;33m\u001b[0m\u001b[1;33m\u001b[0m\u001b[0m\n\u001b[0;32m    425\u001b[0m                     \u001b[1;31m# Otherwise it looks like a bug in the code.\u001b[0m\u001b[1;33m\u001b[0m\u001b[1;33m\u001b[0m\u001b[1;33m\u001b[0m\u001b[0m\n\u001b[1;32m--> 426\u001b[1;33m                     \u001b[0msix\u001b[0m\u001b[1;33m.\u001b[0m\u001b[0mraise_from\u001b[0m\u001b[1;33m(\u001b[0m\u001b[0me\u001b[0m\u001b[1;33m,\u001b[0m \u001b[1;32mNone\u001b[0m\u001b[1;33m)\u001b[0m\u001b[1;33m\u001b[0m\u001b[1;33m\u001b[0m\u001b[0m\n\u001b[0m\u001b[0;32m    427\u001b[0m         \u001b[1;32mexcept\u001b[0m \u001b[1;33m(\u001b[0m\u001b[0mSocketTimeout\u001b[0m\u001b[1;33m,\u001b[0m \u001b[0mBaseSSLError\u001b[0m\u001b[1;33m,\u001b[0m \u001b[0mSocketError\u001b[0m\u001b[1;33m)\u001b[0m \u001b[1;32mas\u001b[0m \u001b[0me\u001b[0m\u001b[1;33m:\u001b[0m\u001b[1;33m\u001b[0m\u001b[1;33m\u001b[0m\u001b[0m\n\u001b[0;32m    428\u001b[0m             \u001b[0mself\u001b[0m\u001b[1;33m.\u001b[0m\u001b[0m_raise_timeout\u001b[0m\u001b[1;33m(\u001b[0m\u001b[0merr\u001b[0m\u001b[1;33m=\u001b[0m\u001b[0me\u001b[0m\u001b[1;33m,\u001b[0m \u001b[0murl\u001b[0m\u001b[1;33m=\u001b[0m\u001b[0murl\u001b[0m\u001b[1;33m,\u001b[0m \u001b[0mtimeout_value\u001b[0m\u001b[1;33m=\u001b[0m\u001b[0mread_timeout\u001b[0m\u001b[1;33m)\u001b[0m\u001b[1;33m\u001b[0m\u001b[1;33m\u001b[0m\u001b[0m\n",
      "\u001b[1;32mD:\\Programming\\Anaconda3\\lib\\site-packages\\urllib3\\packages\\six.py\u001b[0m in \u001b[0;36mraise_from\u001b[1;34m(value, from_value)\u001b[0m\n",
      "\u001b[1;32mD:\\Programming\\Anaconda3\\lib\\site-packages\\urllib3\\connectionpool.py\u001b[0m in \u001b[0;36m_make_request\u001b[1;34m(self, conn, method, url, timeout, chunked, **httplib_request_kw)\u001b[0m\n\u001b[0;32m    419\u001b[0m                 \u001b[1;31m# Python 3\u001b[0m\u001b[1;33m\u001b[0m\u001b[1;33m\u001b[0m\u001b[1;33m\u001b[0m\u001b[0m\n\u001b[0;32m    420\u001b[0m                 \u001b[1;32mtry\u001b[0m\u001b[1;33m:\u001b[0m\u001b[1;33m\u001b[0m\u001b[1;33m\u001b[0m\u001b[0m\n\u001b[1;32m--> 421\u001b[1;33m                     \u001b[0mhttplib_response\u001b[0m \u001b[1;33m=\u001b[0m \u001b[0mconn\u001b[0m\u001b[1;33m.\u001b[0m\u001b[0mgetresponse\u001b[0m\u001b[1;33m(\u001b[0m\u001b[1;33m)\u001b[0m\u001b[1;33m\u001b[0m\u001b[1;33m\u001b[0m\u001b[0m\n\u001b[0m\u001b[0;32m    422\u001b[0m                 \u001b[1;32mexcept\u001b[0m \u001b[0mBaseException\u001b[0m \u001b[1;32mas\u001b[0m \u001b[0me\u001b[0m\u001b[1;33m:\u001b[0m\u001b[1;33m\u001b[0m\u001b[1;33m\u001b[0m\u001b[0m\n\u001b[0;32m    423\u001b[0m                     \u001b[1;31m# Remove the TypeError from the exception chain in\u001b[0m\u001b[1;33m\u001b[0m\u001b[1;33m\u001b[0m\u001b[1;33m\u001b[0m\u001b[0m\n",
      "\u001b[1;32mD:\\Programming\\Anaconda3\\lib\\http\\client.py\u001b[0m in \u001b[0;36mgetresponse\u001b[1;34m(self)\u001b[0m\n\u001b[0;32m   1345\u001b[0m         \u001b[1;32mtry\u001b[0m\u001b[1;33m:\u001b[0m\u001b[1;33m\u001b[0m\u001b[1;33m\u001b[0m\u001b[0m\n\u001b[0;32m   1346\u001b[0m             \u001b[1;32mtry\u001b[0m\u001b[1;33m:\u001b[0m\u001b[1;33m\u001b[0m\u001b[1;33m\u001b[0m\u001b[0m\n\u001b[1;32m-> 1347\u001b[1;33m                 \u001b[0mresponse\u001b[0m\u001b[1;33m.\u001b[0m\u001b[0mbegin\u001b[0m\u001b[1;33m(\u001b[0m\u001b[1;33m)\u001b[0m\u001b[1;33m\u001b[0m\u001b[1;33m\u001b[0m\u001b[0m\n\u001b[0m\u001b[0;32m   1348\u001b[0m             \u001b[1;32mexcept\u001b[0m \u001b[0mConnectionError\u001b[0m\u001b[1;33m:\u001b[0m\u001b[1;33m\u001b[0m\u001b[1;33m\u001b[0m\u001b[0m\n\u001b[0;32m   1349\u001b[0m                 \u001b[0mself\u001b[0m\u001b[1;33m.\u001b[0m\u001b[0mclose\u001b[0m\u001b[1;33m(\u001b[0m\u001b[1;33m)\u001b[0m\u001b[1;33m\u001b[0m\u001b[1;33m\u001b[0m\u001b[0m\n",
      "\u001b[1;32mD:\\Programming\\Anaconda3\\lib\\http\\client.py\u001b[0m in \u001b[0;36mbegin\u001b[1;34m(self)\u001b[0m\n\u001b[0;32m    305\u001b[0m         \u001b[1;31m# read until we get a non-100 response\u001b[0m\u001b[1;33m\u001b[0m\u001b[1;33m\u001b[0m\u001b[1;33m\u001b[0m\u001b[0m\n\u001b[0;32m    306\u001b[0m         \u001b[1;32mwhile\u001b[0m \u001b[1;32mTrue\u001b[0m\u001b[1;33m:\u001b[0m\u001b[1;33m\u001b[0m\u001b[1;33m\u001b[0m\u001b[0m\n\u001b[1;32m--> 307\u001b[1;33m             \u001b[0mversion\u001b[0m\u001b[1;33m,\u001b[0m \u001b[0mstatus\u001b[0m\u001b[1;33m,\u001b[0m \u001b[0mreason\u001b[0m \u001b[1;33m=\u001b[0m \u001b[0mself\u001b[0m\u001b[1;33m.\u001b[0m\u001b[0m_read_status\u001b[0m\u001b[1;33m(\u001b[0m\u001b[1;33m)\u001b[0m\u001b[1;33m\u001b[0m\u001b[1;33m\u001b[0m\u001b[0m\n\u001b[0m\u001b[0;32m    308\u001b[0m             \u001b[1;32mif\u001b[0m \u001b[0mstatus\u001b[0m \u001b[1;33m!=\u001b[0m \u001b[0mCONTINUE\u001b[0m\u001b[1;33m:\u001b[0m\u001b[1;33m\u001b[0m\u001b[1;33m\u001b[0m\u001b[0m\n\u001b[0;32m    309\u001b[0m                 \u001b[1;32mbreak\u001b[0m\u001b[1;33m\u001b[0m\u001b[1;33m\u001b[0m\u001b[0m\n",
      "\u001b[1;32mD:\\Programming\\Anaconda3\\lib\\http\\client.py\u001b[0m in \u001b[0;36m_read_status\u001b[1;34m(self)\u001b[0m\n\u001b[0;32m    266\u001b[0m \u001b[1;33m\u001b[0m\u001b[0m\n\u001b[0;32m    267\u001b[0m     \u001b[1;32mdef\u001b[0m \u001b[0m_read_status\u001b[0m\u001b[1;33m(\u001b[0m\u001b[0mself\u001b[0m\u001b[1;33m)\u001b[0m\u001b[1;33m:\u001b[0m\u001b[1;33m\u001b[0m\u001b[1;33m\u001b[0m\u001b[0m\n\u001b[1;32m--> 268\u001b[1;33m         \u001b[0mline\u001b[0m \u001b[1;33m=\u001b[0m \u001b[0mstr\u001b[0m\u001b[1;33m(\u001b[0m\u001b[0mself\u001b[0m\u001b[1;33m.\u001b[0m\u001b[0mfp\u001b[0m\u001b[1;33m.\u001b[0m\u001b[0mreadline\u001b[0m\u001b[1;33m(\u001b[0m\u001b[0m_MAXLINE\u001b[0m \u001b[1;33m+\u001b[0m \u001b[1;36m1\u001b[0m\u001b[1;33m)\u001b[0m\u001b[1;33m,\u001b[0m \u001b[1;34m\"iso-8859-1\"\u001b[0m\u001b[1;33m)\u001b[0m\u001b[1;33m\u001b[0m\u001b[1;33m\u001b[0m\u001b[0m\n\u001b[0m\u001b[0;32m    269\u001b[0m         \u001b[1;32mif\u001b[0m \u001b[0mlen\u001b[0m\u001b[1;33m(\u001b[0m\u001b[0mline\u001b[0m\u001b[1;33m)\u001b[0m \u001b[1;33m>\u001b[0m \u001b[0m_MAXLINE\u001b[0m\u001b[1;33m:\u001b[0m\u001b[1;33m\u001b[0m\u001b[1;33m\u001b[0m\u001b[0m\n\u001b[0;32m    270\u001b[0m             \u001b[1;32mraise\u001b[0m \u001b[0mLineTooLong\u001b[0m\u001b[1;33m(\u001b[0m\u001b[1;34m\"status line\"\u001b[0m\u001b[1;33m)\u001b[0m\u001b[1;33m\u001b[0m\u001b[1;33m\u001b[0m\u001b[0m\n",
      "\u001b[1;32mD:\\Programming\\Anaconda3\\lib\\socket.py\u001b[0m in \u001b[0;36mreadinto\u001b[1;34m(self, b)\u001b[0m\n\u001b[0;32m    667\u001b[0m         \u001b[1;32mwhile\u001b[0m \u001b[1;32mTrue\u001b[0m\u001b[1;33m:\u001b[0m\u001b[1;33m\u001b[0m\u001b[1;33m\u001b[0m\u001b[0m\n\u001b[0;32m    668\u001b[0m             \u001b[1;32mtry\u001b[0m\u001b[1;33m:\u001b[0m\u001b[1;33m\u001b[0m\u001b[1;33m\u001b[0m\u001b[0m\n\u001b[1;32m--> 669\u001b[1;33m                 \u001b[1;32mreturn\u001b[0m \u001b[0mself\u001b[0m\u001b[1;33m.\u001b[0m\u001b[0m_sock\u001b[0m\u001b[1;33m.\u001b[0m\u001b[0mrecv_into\u001b[0m\u001b[1;33m(\u001b[0m\u001b[0mb\u001b[0m\u001b[1;33m)\u001b[0m\u001b[1;33m\u001b[0m\u001b[1;33m\u001b[0m\u001b[0m\n\u001b[0m\u001b[0;32m    670\u001b[0m             \u001b[1;32mexcept\u001b[0m \u001b[0mtimeout\u001b[0m\u001b[1;33m:\u001b[0m\u001b[1;33m\u001b[0m\u001b[1;33m\u001b[0m\u001b[0m\n\u001b[0;32m    671\u001b[0m                 \u001b[0mself\u001b[0m\u001b[1;33m.\u001b[0m\u001b[0m_timeout_occurred\u001b[0m \u001b[1;33m=\u001b[0m \u001b[1;32mTrue\u001b[0m\u001b[1;33m\u001b[0m\u001b[1;33m\u001b[0m\u001b[0m\n",
      "\u001b[1;31mKeyboardInterrupt\u001b[0m: "
     ]
    }
   ],
   "source": [
    "links = []\n",
    "\n",
    "for page in range(1, pages+1):\n",
    "    path = \"https://www.bajajfinservmarkets.in/discover/journals/blogs/page/\" + str(page) + \"/\"\n",
    "    driver.get(path)\n",
    "    time.sleep(0.5)\n",
    "    section = driver.find_elements_by_class_name(\"articles-listing\")[0]\n",
    "#     print(section)\n",
    "    posts = section.find_elements_by_css_selector('div.row')\n",
    "#     print(posts)\n",
    "    for postDiv in posts:\n",
    "        post = postDiv.find_elements_by_css_selector('div.brand-white-bg')[-1]\n",
    "        linkOBJ = post.find_elements_by_css_selector('a')\n",
    "        link = \"\"\n",
    "        for x in linkOBJ:\n",
    "            if (x.get_attribute('innerHTML') == \"READ MORE\"):\n",
    "                link = x.get_attribute('href')\n",
    "#         print(link)\n",
    "        links.append(link)\n",
    "    time.sleep(0.5)\n",
    "\n",
    "    "
   ]
  },
  {
   "cell_type": "code",
   "execution_count": 56,
   "metadata": {},
   "outputs": [
    {
     "name": "stdout",
     "output_type": "stream",
     "text": [
      "['https://www.bajajfinservmarkets.in/discover/journals/blogs/investment/5-personal-finance-tips-that-will-help-you-manage-your-money-better', 'https://www.bajajfinservmarkets.in/discover/journals/blogs/investment/cryptocurrencies-digital-gold-or-a-ponzi-scheme', 'https://www.bajajfinservmarkets.in/discover/journals/blogs/service/benefits-of-advance-emi-payment', 'https://www.bajajfinservmarkets.in/discover/journals/blogs/insurance/how-are-men-and-women-different-in-retirement-planning', 'https://www.bajajfinservmarkets.in/discover/journals/blogs/insurance/why-does-india-spend-so-much-on-out-of-pocket-medical-expenses', 'https://www.bajajfinservmarkets.in/discover/journals/blogs/loans/top-4-benefits-of-a-personal-loan', 'https://www.bajajfinservmarkets.in/discover/journals/blogs/insurance/introduction-to-basic-yoga-sequences', 'https://www.bajajfinservmarkets.in/discover/journals/blogs/emi-card/end-of-season-sale-with-bajaj-finserv-emi-card', 'https://www.bajajfinservmarkets.in/discover/journals/blogs/investment/dear-millennials-heres-how-to-deal-with-financial-planning-in-a-world-without-pensions', 'https://www.bajajfinservmarkets.in/discover/journals/blogs/loans/digitization-in-lending-post-the-pandemic-era', 'https://www.bajajfinservmarkets.in/discover/journals/blogs/loans/hybrid-model-of-lending-is-this-the-future', 'https://www.bajajfinservmarkets.in/discover/journals/blogs/loans/how-loan-restructuring-impacts-cibil-score-and-eligibility', 'https://www.bajajfinservmarkets.in/discover/journals/blogs/insurance/7-home-remedies-for-headache', 'https://www.bajajfinservmarkets.in/discover/journals/blogs/insurance/types-of-personal-hygiene', 'https://www.bajajfinservmarkets.in/discover/journals/blogs/credit-card/how-important-are-credit-card-statements', 'https://www.bajajfinservmarkets.in/discover/journals/blogs/emi-card/black-friday-sale-and-offers-with-bajaj-finserv-emi-network-card', 'https://www.bajajfinservmarkets.in/discover/journals/blogs/insurance/best-crossover-cars-in-india', 'https://www.bajajfinservmarkets.in/discover/journals/blogs/insurance/corporate-health-insurance-vs-individual', 'https://www.bajajfinservmarkets.in/discover/journals/blogs/insurance/home-remedies-for-acidity', 'https://www.bajajfinservmarkets.in/discover/journals/blogs/insurance/home-remedies-for-cold']\n"
     ]
    }
   ],
   "source": [
    "# for blog in links:\n",
    "print(links)"
   ]
  },
  {
   "cell_type": "code",
   "execution_count": 70,
   "metadata": {},
   "outputs": [
    {
     "name": "stdout",
     "output_type": "stream",
     "text": [
      "Collecting contractions\n",
      "  Downloading contractions-0.0.52-py2.py3-none-any.whl (7.2 kB)\n",
      "Collecting textsearch>=0.0.21\n",
      "  Downloading textsearch-0.0.21-py2.py3-none-any.whl (7.5 kB)\n",
      "Collecting pyahocorasick\n",
      "  Downloading pyahocorasick-1.4.2.tar.gz (321 kB)\n",
      "Collecting anyascii\n",
      "  Downloading anyascii-0.2.0-py3-none-any.whl (283 kB)\n",
      "Building wheels for collected packages: pyahocorasick\n",
      "  Building wheel for pyahocorasick (setup.py): started\n",
      "  Building wheel for pyahocorasick (setup.py): finished with status 'done'\n",
      "  Created wheel for pyahocorasick: filename=pyahocorasick-1.4.2-cp38-cp38-win_amd64.whl size=38173 sha256=0c3aa71674af7fb3749df73e8815396e14daba4caad91030b98d2bbd5fea79f3\n",
      "  Stored in directory: c:\\users\\anmol\\appdata\\local\\pip\\cache\\wheels\\74\\bc\\b8\\e5f739a84005620cfe66d3fcb8bb182e309d6056bc6700b60e\n",
      "Successfully built pyahocorasick\n",
      "Installing collected packages: pyahocorasick, anyascii, textsearch, contractions\n",
      "Successfully installed anyascii-0.2.0 contractions-0.0.52 pyahocorasick-1.4.2 textsearch-0.0.21\n",
      "^C\n",
      "^C\n",
      "^C\n",
      "Collecting fuzzywuzzy\n",
      "  Downloading fuzzywuzzy-0.18.0-py2.py3-none-any.whl (18 kB)\n",
      "Installing collected packages: fuzzywuzzy\n",
      "Successfully installed fuzzywuzzy-0.18.0\n",
      "Collecting TextBlob\n",
      "  Downloading textblob-0.15.3-py2.py3-none-any.whl (636 kB)\n",
      "Requirement already satisfied: nltk>=3.1 in d:\\programming\\anaconda3\\lib\\site-packages (from TextBlob) (3.5)\n",
      "Requirement already satisfied: click in d:\\programming\\anaconda3\\lib\\site-packages (from nltk>=3.1->TextBlob) (7.1.2)\n",
      "Requirement already satisfied: regex in d:\\programming\\anaconda3\\lib\\site-packages (from nltk>=3.1->TextBlob) (2020.10.15)\n",
      "Requirement already satisfied: tqdm in d:\\programming\\anaconda3\\lib\\site-packages (from nltk>=3.1->TextBlob) (4.50.2)\n",
      "Requirement already satisfied: joblib in d:\\programming\\anaconda3\\lib\\site-packages (from nltk>=3.1->TextBlob) (0.17.0)\n",
      "Installing collected packages: TextBlob\n",
      "Successfully installed TextBlob-0.15.3\n"
     ]
    },
    {
     "name": "stderr",
     "output_type": "stream",
     "text": [
      "ERROR: After October 2020 you may experience errors when installing or updating packages. This is because pip will change the way that it resolves dependency conflicts.\n",
      "\n",
      "We recommend you use --use-feature=2020-resolver to test your packages with the new resolver before it becomes the default.\n",
      "\n",
      "huggingface-hub 0.0.12 requires packaging>=20.9, but you'll have packaging 20.4 which is incompatible.\n"
     ]
    },
    {
     "name": "stdout",
     "output_type": "stream",
     "text": [
      "Collecting transformers\n",
      "  Downloading transformers-4.9.0-py3-none-any.whl (2.6 MB)\n",
      "Requirement already satisfied: regex!=2019.12.17 in d:\\programming\\anaconda3\\lib\\site-packages (from transformers) (2020.10.15)\n",
      "Requirement already satisfied: requests in d:\\programming\\anaconda3\\lib\\site-packages (from transformers) (2.24.0)\n",
      "Requirement already satisfied: filelock in d:\\programming\\anaconda3\\lib\\site-packages (from transformers) (3.0.12)\n",
      "Collecting sacremoses\n",
      "  Downloading sacremoses-0.0.45-py3-none-any.whl (895 kB)\n",
      "Collecting tokenizers<0.11,>=0.10.1\n",
      "  Downloading tokenizers-0.10.3-cp38-cp38-win_amd64.whl (2.0 MB)\n",
      "Requirement already satisfied: packaging in d:\\programming\\anaconda3\\lib\\site-packages (from transformers) (20.4)\n",
      "Requirement already satisfied: pyyaml>=5.1 in d:\\programming\\anaconda3\\lib\\site-packages (from transformers) (5.3.1)\n",
      "Requirement already satisfied: tqdm>=4.27 in d:\\programming\\anaconda3\\lib\\site-packages (from transformers) (4.50.2)\n",
      "Collecting huggingface-hub==0.0.12\n",
      "  Downloading huggingface_hub-0.0.12-py3-none-any.whl (37 kB)\n",
      "Requirement already satisfied: numpy>=1.17 in d:\\programming\\anaconda3\\lib\\site-packages (from transformers) (1.19.2)\n",
      "Requirement already satisfied: certifi>=2017.4.17 in d:\\programming\\anaconda3\\lib\\site-packages (from requests->transformers) (2020.6.20)\n",
      "Requirement already satisfied: urllib3!=1.25.0,!=1.25.1,<1.26,>=1.21.1 in d:\\programming\\anaconda3\\lib\\site-packages (from requests->transformers) (1.25.11)\n",
      "Requirement already satisfied: chardet<4,>=3.0.2 in d:\\programming\\anaconda3\\lib\\site-packages (from requests->transformers) (3.0.4)\n",
      "Requirement already satisfied: idna<3,>=2.5 in d:\\programming\\anaconda3\\lib\\site-packages (from requests->transformers) (2.10)\n",
      "Requirement already satisfied: six in d:\\programming\\anaconda3\\lib\\site-packages (from sacremoses->transformers) (1.15.0)\n",
      "Requirement already satisfied: click in d:\\programming\\anaconda3\\lib\\site-packages (from sacremoses->transformers) (7.1.2)\n",
      "Requirement already satisfied: joblib in d:\\programming\\anaconda3\\lib\\site-packages (from sacremoses->transformers) (0.17.0)\n",
      "Requirement already satisfied: pyparsing>=2.0.2 in d:\\programming\\anaconda3\\lib\\site-packages (from packaging->transformers) (2.4.7)\n",
      "Requirement already satisfied: typing-extensions in d:\\programming\\anaconda3\\lib\\site-packages (from huggingface-hub==0.0.12->transformers) (3.7.4.3)\n",
      "Installing collected packages: sacremoses, tokenizers, huggingface-hub, transformers\n",
      "Successfully installed huggingface-hub-0.0.12 sacremoses-0.0.45 tokenizers-0.10.3 transformers-4.9.0\n"
     ]
    }
   ],
   "source": [
    "!pip install contractions\n",
    "!pip install fuzzywuzzy\n",
    "!pip install TextBlob\n",
    "!pip install transformers"
   ]
  },
  {
   "cell_type": "code",
   "execution_count": 71,
   "metadata": {},
   "outputs": [
    {
     "name": "stderr",
     "output_type": "stream",
     "text": [
      "[nltk_data] Downloading package stopwords to\n",
      "[nltk_data]     C:\\Users\\anmol\\AppData\\Roaming\\nltk_data...\n",
      "[nltk_data]   Unzipping corpora\\stopwords.zip.\n",
      "[nltk_data] Downloading package wordnet to\n",
      "[nltk_data]     C:\\Users\\anmol\\AppData\\Roaming\\nltk_data...\n",
      "[nltk_data]   Unzipping corpora\\wordnet.zip.\n",
      "[nltk_data] Downloading package brown to\n",
      "[nltk_data]     C:\\Users\\anmol\\AppData\\Roaming\\nltk_data...\n",
      "[nltk_data]   Unzipping corpora\\brown.zip.\n",
      "[nltk_data] Downloading package punkt to\n",
      "[nltk_data]     C:\\Users\\anmol\\AppData\\Roaming\\nltk_data...\n",
      "[nltk_data]   Unzipping tokenizers\\punkt.zip.\n",
      "D:\\Programming\\Anaconda3\\lib\\site-packages\\fuzzywuzzy\\fuzz.py:11: UserWarning: Using slow pure-python SequenceMatcher. Install python-Levenshtein to remove this warning\n",
      "  warnings.warn('Using slow pure-python SequenceMatcher. Install python-Levenshtein to remove this warning')\n",
      "None of PyTorch, TensorFlow >= 2.0, or Flax have been found. Models won't be available and only tokenizers, configuration and file/data utilities can be used.\n"
     ]
    },
    {
     "ename": "ModuleNotFoundError",
     "evalue": "No module named 'tensorflow'",
     "output_type": "error",
     "traceback": [
      "\u001b[1;31m---------------------------------------------------------------------------\u001b[0m",
      "\u001b[1;31mModuleNotFoundError\u001b[0m                       Traceback (most recent call last)",
      "\u001b[1;32m<ipython-input-71-99ca20dc2307>\u001b[0m in \u001b[0;36m<module>\u001b[1;34m\u001b[0m\n\u001b[0;32m     12\u001b[0m \u001b[1;32mfrom\u001b[0m \u001b[0mtransformers\u001b[0m \u001b[1;32mimport\u001b[0m \u001b[0mpipeline\u001b[0m\u001b[1;33m,\u001b[0m\u001b[0mBertTokenizer\u001b[0m\u001b[1;33m,\u001b[0m \u001b[0mTFBertModel\u001b[0m\u001b[1;33m\u001b[0m\u001b[1;33m\u001b[0m\u001b[0m\n\u001b[0;32m     13\u001b[0m \u001b[1;32mimport\u001b[0m \u001b[0mjoblib\u001b[0m\u001b[1;33m\u001b[0m\u001b[1;33m\u001b[0m\u001b[0m\n\u001b[1;32m---> 14\u001b[1;33m \u001b[1;32mimport\u001b[0m \u001b[0mtensorflow\u001b[0m \u001b[1;32mas\u001b[0m \u001b[0mtf\u001b[0m\u001b[1;33m\u001b[0m\u001b[1;33m\u001b[0m\u001b[0m\n\u001b[0m\u001b[0;32m     15\u001b[0m \u001b[1;32mfrom\u001b[0m \u001b[0mscipy\u001b[0m\u001b[1;33m.\u001b[0m\u001b[0mspatial\u001b[0m \u001b[1;32mimport\u001b[0m \u001b[0mdistance\u001b[0m\u001b[1;33m\u001b[0m\u001b[1;33m\u001b[0m\u001b[0m\n\u001b[0;32m     16\u001b[0m \u001b[1;33m\u001b[0m\u001b[0m\n",
      "\u001b[1;31mModuleNotFoundError\u001b[0m: No module named 'tensorflow'"
     ]
    }
   ],
   "source": [
    "\n",
    "\n",
    "from nltk.stem.wordnet import WordNetLemmatizer\n",
    "from nltk.corpus import stopwords\n",
    "import re\n",
    "import contractions\n",
    "import nltk\n",
    "nltk.download('stopwords')\n",
    "nltk.download('wordnet')\n",
    "nltk.download('brown')\n",
    "nltk.download('punkt')\n",
    "from textblob import TextBlob\n",
    "from fuzzywuzzy import fuzz\n",
    "from transformers import pipeline,BertTokenizer, TFBertModel\n",
    "import joblib\n",
    "import tensorflow as tf\n",
    "from scipy.spatial import distance  \n",
    "\n",
    "\"\"\"\n",
    "# to be run only once\n",
    "nlp_qa = pipeline('question-answering')\n",
    "summarizer = pipeline('summarization')\n",
    "tokenizer = BertTokenizer.from_pretrained(\"bert-base-uncased\")\n",
    "model = TFBertModel.from_pretrained(\"bert-base-uncased\")\n",
    "joblib.dump(summarizer,\"/content/drive/MyDrive/Hackathon/summarizer.joblib\")\n",
    "joblib.dump(nlp_qa,\"/content/drive/MyDrive/Hackathon/question_answering.joblib\")\n",
    "model.save_pretrained(\"/content/drive/MyDrive/Hackathon/Bert_model\",save_format=\"tf\")\n",
    "joblib.dump(tokenizer,\"/content/drive/MyDrive/Hackathon/Bert_tokenizer.joblib\")\n",
    "\"\"\"\n",
    "\n",
    "\n",
    "class QueryProcessor:\n",
    "    def __init__(self):\n",
    "        try:\n",
    "            self.summarizer = joblib.load(\"process/Models/summarizer.joblib\")\n",
    "            self.nlp_qa = joblib.load(\"process/Models/question_answering.joblib\")\n",
    "            self.model = TFBertModel.from_pretrained(\"process/Models/Bert_model\")\n",
    "            self.tokenizer = joblib.load(\"process/Models/Bert_tokenizer.joblib\")\n",
    "        except Exception as e:\n",
    "            print(e)\n",
    "        finally:\n",
    "            self.lem = WordNetLemmatizer()\n",
    "\n",
    "    def generic_preprocessor(self, text):\n",
    "        text = str(text)\n",
    "        text = text.encode('ascii', 'ignore')\n",
    "        text = text.decode()\n",
    "        text = text.lower()\n",
    "        text = str(TextBlob(text).correct())\n",
    "        text = contractions.fix(text)\n",
    "        text = ' '.join([word for word in text.split()\n",
    "                         if not word in set(stopwords.words('english'))])\n",
    "        text = re.sub('[^a-zA-Z]', ' ', text)\n",
    "        text = ' '.join(text.split())\n",
    "        text = self.lem.lemmatize(text)\n",
    "        return text\n",
    "\n",
    "    def fuzz_matching(self, quest1, quest2):\n",
    "        if type(quest1) == list:\n",
    "            quest1 = \" \".join(quest1)\n",
    "        if type(quest2) == list:\n",
    "            quest2 = \" \".join(quest2)\n",
    "        quest1 = generic_preprocessor(quest1)\n",
    "        quest2 = generic_preprocessor(quest2)\n",
    "        return fuzz.partial_ratio(quest1, quest2)\n",
    "\n",
    "    def keyword_extraction(self, text):\n",
    "        return list(TextBlob(text).noun_phrases)\n",
    "\n",
    "    def question_answering(self, content, question, rec=False):\n",
    "        if rec == False and len(content.split(\" \")) < 10:\n",
    "            return \" \"\n",
    "        elif rec == True and len(content) < 10:\n",
    "            return (0, \" \")\n",
    "\n",
    "        elif rec == False and 10 < len(content.split(\" \")) < 500:\n",
    "            return self.nlp_qa(context=content, question=question)[\"answer\"]\n",
    "\n",
    "        elif rec == True and 10 < len(content) < 500:\n",
    "            content = \" \".join(content)\n",
    "            answer = self.nlp_qa(context=content, question=question)\n",
    "            return (round(answer[\"score\"], 3), answer[\"answer\"])\n",
    "\n",
    "        else:\n",
    "            content = content.split(\" \")\n",
    "            # split on basis of senetnce\n",
    "            content = [content[i:i+499] for i in range(0, len(content), 499)]\n",
    "            content = [question_answering(\n",
    "                i, question, rec=True) for i in content]\n",
    "            possible_answers = sorted(\n",
    "                content, key=lambda x: x[0], reverse=True)\n",
    "            if len(possible_answers) == 1:\n",
    "                return possible_answers[0][1]\n",
    "            else:\n",
    "                if possible_answers[0][0] == possible_answers[1][0]:\n",
    "                    return possible_answers[0][1]\n",
    "                elif 0 < ((possible_answers[0][0] - possible_answers[1][0])/possible_answers[1][0]) < 0.05:\n",
    "                    return possible_answers[0][1] + \" | \" + possible_answers[1][1]\n",
    "                else:\n",
    "                    return possible_answers[0][1]\n",
    "\n",
    "    def summarization(self, text):\n",
    "        if type(text) == str:\n",
    "            if len(text.split(\" \")) < 10:\n",
    "                return text\n",
    "            if len(text.split(\" \")) < 500:\n",
    "                return self.summarizer(text)[0][\"summary_text\"]\n",
    "            else:\n",
    "                text = text.split(\" \")\n",
    "                # split on basis of sentence\n",
    "                text = [text[i:499] for i in range(0, len(text), 499)]\n",
    "                text = [summarization(i) for i in text]\n",
    "                # can be improved with fuzzy match from list of summarized don't chose text with higher similarity to other\n",
    "                return \" \".join(text)\n",
    "        else:\n",
    "            if len(text) < 10:\n",
    "                return \" \".join(text)\n",
    "            text = \" \".join(text)\n",
    "            return self.summarizer(text)[0][\"summary_text\"]\n",
    "\n",
    "    def semantic_search(self,text1, text2):\n",
    "        inputs1 = self.tokenizer(\n",
    "            [text1], add_special_tokens=True, return_tensors=\"tf\")\n",
    "        inputs2 = self.tokenizer(\n",
    "            [text2], add_special_tokens=True, return_tensors=\"tf\")\n",
    "        output1 = self.model(inputs1)[-1].numpy()\n",
    "        output2 = self.model(inputs2)[-1].numpy()\n",
    "        return (1 - distance.cosine(output1, output2))*100\n",
    "\n",
    "\"\"\"\n",
    "Q = QueryProcessor()\n",
    "Q.generic_preprocessor(\"Hello, how are yuo?\")\n",
    "\"\"\""
   ]
  },
  {
   "cell_type": "code",
   "execution_count": 68,
   "metadata": {},
   "outputs": [],
   "source": [
    "blogs = []\n",
    "l = ['investment', 'loans', 'emi-card']\n",
    "for link in links:\n",
    "    category = link.split('/')[-2]\n",
    "#     print(category)\n",
    "    if (category in l):        \n",
    "        driver.get(link)\n",
    "        time.sleep(0.25)\n",
    "        title = driver.find_elements_by_css_selector('h1.brand-primary')[0]\n",
    "        body = driver.find_elements_by_css_selector('div.post-content-wrapper')[0]\n",
    "#         print(title.get_attribute('innerText'))\n",
    "#         print(body.get_attribute('innerHTML'))\n",
    "        blogs.append({\n",
    "            \"title\": title.get_attribute('innerText'),\n",
    "            \"content\": body.get_attribute('innerHTML'),\n",
    "            \"category\": category,\n",
    "            \"link\": link\n",
    "        })\n",
    "#         break"
   ]
  },
  {
   "cell_type": "code",
   "execution_count": 69,
   "metadata": {},
   "outputs": [
    {
     "name": "stdout",
     "output_type": "stream",
     "text": [
      "{'title': '5 Personal Finance Tips That Will Help You Manage Your Money Better', 'content': '\\n  \\n  <p style=\"text-align: justify;\">Cracking the code to personal finance may not seem easy at first. But if you have the right tips guiding you, you’ll find that managing your money becomes so much more effortless. Mastering personal finance can help you answer all those questions you may have had over the years, like how you can go about saving money and making the right investment decisions.</p>\\n<p style=\"text-align: justify;\">So, let’s take a look at 5 personal finance tips that will help you get better at personal finance.</p>\\n<ul style=\"text-align: justify;\">\\n<li>\\n<h2><b>Budget. Budget. Budget.</b></h2>\\n</li>\\n</ul>\\n<p style=\"text-align: justify;\">Budgeting is the first step to getting better at personal finance. Creating a budget is crucial because it gives you a complete idea of the money that is coming in, and the money that is being spent. This information is fundamental to creating any kind of financial plan. Because only when you know how much you’re earning and what you’re spending can you get better at saving money.</p>\\n<ul style=\"text-align: justify;\">\\n<li>\\n<h2><b>Take Care of Debt</b></h2>\\n</li>\\n</ul>\\n<p style=\"text-align: justify;\">If you’re not careful about it, debt can eat into your savings. And before you know it, you could be looking at years of using your income <i><span style=\"font-weight: 400;\">just </span></i><span style=\"font-weight: 400;\">to repay your debts. So, it’s always a smart idea to take care of debt early on. Don’t borrow more than you can repay. Ensure you make your repayments on time, and redirect any extra funds to closing any debts you can.</span></p>\\n<p style=\"text-align: justify;\">If you are looking for ways to repay your debts without straining your finances too much, you could consider consolidating your debts and negotiating a lower interest rate, or repaying high-interest debt first. Make paying off the debt with the highest interest rate your first priority, so you can become debt-free sooner.</p>\\n<ul style=\"text-align: justify;\">\\n<li>\\n<h2><b>Saving Money – Make a Savings Plan</b></h2>\\n</li>\\n</ul>\\n<p style=\"text-align: justify;\">A savings plan, of course, is crucial to saving money for the future. But most beginners are not sure of <i><span style=\"font-weight: 400;\">how much </span></i><span style=\"font-weight: 400;\">to save. If you’re having some trouble with that too, the 50-30-20 rule can be of great help. Here, you use 50% of your income for your needs, 30% for your wants, and the other 20% – you save that. So, you can consistently save a good bit of your income over the years.</span></p>\\n<p style=\"text-align: justify;\">This is merely a benchmark though. You can always make use of any other savings plan that works best for your specific situation. And if your life goals, your financial liabilities, or your income levels change, you can alter your savings plan accordingly.</p>\\n<ul style=\"text-align: justify;\">\\n<li>\\n<h2><b>Pay Yourself First</b></h2>\\n</li>\\n</ul>\\n<p style=\"text-align: justify;\">‘Paying yourself first’ doesn’t mean spending money on discretionary expenses, beyond your means. It is all about investing, so that your money can grow. In other words, it is about truly paying yourself by investing in your future.</p>\\n<p style=\"text-align: justify;\">There are many different investment options available to select from. And you can create a customised investment plan that helps you meet your specific life goals. There are investment options for investors with different levels of risk appetites and options for both long-term and short-term horizons. That’s not all. There are investments that offer a variety of other benefits like tax savings too. Choose from this mix of options based on your needs and pay yourself first.</p>\\n<ul style=\"text-align: justify;\">\\n<li>\\n<h2><b>Create an Emergency Fund</b></h2>\\n</li>\\n</ul>\\n<p style=\"text-align: justify;\">You never know when an unexpected emergency may come knocking. That’s why saving money for financial emergencies is an important part of personal finance. The easiest way to do this is to open a savings account and keep saving some money consistently each month.</p>\\n<p style=\"text-align: justify;\">You could also make use of any sudden lump sum amount you get to grow your emergency fund. For instance, if you receive a bonus at work or a sudden inheritance, you could put it in the emergency savings account. Keep in mind that you should not spend the funds in this account for any other life goals. This money is to be used only in case of any financial crisis, where you are in need of immediate liquidity.</p>\\n<h2 style=\"text-align: justify;\"><b>Bonus Idea</b></h2>\\n<p style=\"text-align: justify;\">Secure your future with Insurance plan. Insurance of any kind can help you be better prepared for emergencies in life. <a href=\"https://www.bajajfinservmarkets.in/insurance/health-insurance.html\">Health insurance</a><span style=\"font-weight: 400;\">, in particular, can ensure that any sudden illness in your family doesn’t wipe out your savings.</span></p>\\n<h2 style=\"text-align: justify;\"><b>Conclusion</b></h2>\\n<p style=\"text-align: justify;\">These tips should help you get started with understanding your money better and managing it more optimally. To truly make the best use of your savings, you need to invest in your future. And you can find a variety of investment options on Finserv MARKETS, ranging from&nbsp;<a tabindex=\"-1\" href=\"https://www.bajajfinservmarkets.in/fixed-deposit.html\" target=\"_blank\" rel=\"external noopener\">Fixed Deposits</a>&nbsp;to&nbsp;<a tabindex=\"-1\" href=\"https://www.bajajfinservmarkets.in/mutual-funds.html\" target=\"_blank\" rel=\"external noopener\">Mutual Funds</a>, and&nbsp;<a tabindex=\"-1\" href=\"https://www.bajajfinservmarkets.in/digital-gold.html\" target=\"_blank\" rel=\"external noopener\">Digital Gold</a>.<span style=\"font-weight: 400;\">&nbsp;With the right products and personalized offers, Finserv MARKETS makes it easier to achieve your goals.</span></p>\\n<p style=\"text-align: justify;\">And as with anything else in life, if you’re having trouble with a particular area of your finances, don’t hesitate to seek expert help. A financial professional can help you with whatever queries you may have.</p>\\n\\n', 'category': 'investment'}\n",
      "\n",
      "{'title': 'Cryptocurrencies: Digital Gold or a Ponzi Scheme? Should you make it a part of your portfolio?', 'content': '\\n  \\n  <h2><strong>Temptation and Caution</strong></h2>\\n<p>If you had bought Bitcoin worth Rs. 10 Lakhs at the start of March in 2020, it would have been worth approximately Rs. 1.1 Crores in March of 2021, a span of just one year. This shows you how the demand for cryptocurrency is increasing multifold. Yet, there is more than what meets the eye here. Before this euphoric bull run began, Bitcoin was more or less holding in the same range for almost 3 years. After this recent bull run, we have already seen a descent of approximately 50%, with Bitcoin falling from the $65,000 levels to the $32,000 levels recently. So, if you had bought Rs. 10 Lakhs worth of Bitcoin this March, it would be worth approximately Rs. 5 Lakhs in June of 2021.&nbsp; This shows you how unpredictable the cryptocurrency market can be. Yet, does this high risk “asset” make a case for being part of your portfolio?</p>\\n<h2><strong>Taking a deeper look</strong></h2>\\n<p><strong>The Negatives:</strong> The cryptocurrency market is a high-risk space where if you are ill informed and on the wrong side of a trend, you can lose huge percentages of your investments. As this “Asset Class” is still relatively new, as compared to traditional markets like equities or commodities, most people, including many investors, are uncertain of how it will all eventually play out. Investment magnate Warren Buffet has stated that he will never own Bitcoin as he believes they don’t have any underlying value. He compares this phase to the “Tulip Mania” and expects it all to come tumbling down sooner or later.</p>\\n<p><strong>The Positives:</strong> Although there exists high risk, with it comes the possibility of high reward too. If you have accumulated cryptocurrencies and hold it through a bull run, you are likely to see returns that the stock market may take years to deliver. In an answer to Warren Buffet’s take on Bitcoin, founder of Social Capital, Chamath Palihapitiya, says that Bitcoin is likely to continue increasing in value. This is because cryptocurrency market serves as an alternate option to traditional equity investments. In the event of equity markets going bust or a financial crisis unfolding, the cryptocurrency market could serve as a safe haven.</p>\\n<h2><strong>Key Takeaways</strong></h2>\\n<ul>\\n<li><strong>Invest what you can afford to lose: </strong>It is not advisable to invest a large part of one’s portfolio in cryptocurrencies, especially if one is new to the market. This means that one must first aside money for an emergency fund, long term investment goals, purchasing insurance, important expenses, etc. Any surplus amount that remains (ideally less than 5% of your portfolio) can be considered for investment in the crypto space. This way, even if you lose all the money invested in cryptocurrencies, it won’t affect your financial well-being.</li>\\n<li><strong>Digital Gold:</strong> A lot investors view cryptocurrencies as a form of “<a href=\"https://www.bajajfinservmarkets.in/Investment/digital-gold.html\">digital gold</a>”. Just as gold serves as a hedge against stock markets falling, this could be an addition in the same way. Typically, seasoned investors place around 5% of their portfolio is such hedges, and cryptocurrencies could be made a part of that section after adequate research.</li>\\n<li><strong>Stay away from the hype: </strong>It is easy to fall prey to bullish sentiment when a market is doing well. Yet, one must realize that there are many “altcoins” that are hyped by social media users, but don’t have strong “use cases”. Many of these influencers run “pump and dump” schemes where once the coin hits a certain high, it is sold off by “whales” or people with high ownership of the coin. The smaller investors buy in due to the hype, only to see the price tumble. Also note, it is extremely easy to make a cryptocurrency and release it into the market. For example, recently a crypto enthusiast created a coin called “Pump Coin” as a joke to warn investors. The market cap of his coin hit 5 Billion US Dollars, despite his own warning to buyers not to invest in his project as it had no use case. This shows how herd mentality plays a big role in this market.</li>\\n<li><strong>Do your own research: </strong>The cryptocurrency space is still in its nascent stages. While there are many coins fueled by hype which are unlikely to last long, there are also several projects with a lot of potential for real world use. It is advisable to read the coin’s “whitepaper”, understand the aim of the project, its progress so far, the founders’ backgrounds, the number of coins in circulation, and the project’s overall potential. Study how the price has behaved, whether it is extremely volatile, etc. and then make your move accordingly.</li>\\n</ul>\\n<h2><strong>A Balanced Portfolio Remains Key</strong></h2>\\n<p>It is easy to get impulsive and invest higher amounts in a new space like cryptocurrencies. One must avoid this and keep in mind that your main long-term investments can continue in other <a href=\"https://www.bajajfinservmarkets.in/Investment.html\">trusted financial instruments</a> such as Mutual Funds, Fixed Deposits, Gold, National Pension Scheme, Unit Linked Insurance Plan (ULIP) etc.</p>\\n<p>While <a href=\"https://www.bajajfinservmarkets.in/mutual-funds.html\">Equity Mutual Funds</a> can accelerate your portfolio growth over the long run, <a href=\"https://www.bajajfinservmarkets.in/discover/journals/blogs/investment/what-is-a-debt-mutual-fund/\">Debt Mutual Funds</a> can offer a steadier form of income at a moderate rate of return. Gold can serve as a hedge and ensure that one’s portfolio has a cushion in case of a market downturn. <a href=\"https://www.bajajfinservmarkets.in/fixed-deposit.html\">Fixed Deposits</a> serve as one of the safest ways to store your money while earning an interest so as to offset inflation. <a href=\"https://www.bajajfinservmarkets.in/insurance/ulip/what-is-ulip.html\">ULIPs</a> are also a unique option that serves as an insurance instrument while offering the benefits of investments. <a href=\"https://www.bajajfinservmarkets.in/Investment/national-pension-scheme/what-is-nps.html\">NPS</a>, a government-backed market-linked scheme, is also another option that can provide long-term payouts for a secured financial future post retirement.</p>\\n<p>It is prudent to diversify your funds across these instruments based on your risk appetite, time horizon and financial goals. This will ensure that your portfolio is well balanced and has a long-term growth trajectory along with appropriate security. Get access to these financial instruments on the Finserv MARKETS website and App.<strong><br>\\n</strong></p>\\n<h2><strong>The Final Word</strong></h2>\\n<p>As goes with any investment, it is important to educate yourself and see whether the crypto is a space that is suited for you before investing any amount in the same. Avoid falling for coin “tips” or promises of exponential returns in a short span of time. If you are to invest in this space, it is advisable to have a long-term mentality and keeping yourself up to date about happenings in this relatively new market. Remember to only invest what you can afford to lose in a space like crypto, as it is a relatively new and volatile space.</p>\\n<p><strong>FAQs</strong></p>\\n<ul>\\n<li><strong>Is it legal to buy cryptocurrency in India?</strong></li>\\n</ul>\\n<p>It is legal to invest and trade in cryptocurrency in India. The RBI put out a statement to clarify this recently as certain big banks were threatening to shut accounts of customers that were investing in crypto.</p>\\n<ul>\\n<li><strong>Why talk about Bitcoin when there are other cryptos?</strong></li>\\n</ul>\\n<p>The reason that Bitcoin was chosen in the first example is because Bitcoin was the first to bring blockchain technology to the market and has the largest market cap in the cryptocurrency market. The sentiment of the market tends to follow the sentiment around Bitcoin. Yet, there are various other “Altcoins” that one can buy such as Etherium, Cardano, Polygon and many more.</p>\\n<ul>\\n<li><strong><em>Where to buy crypto in India?</em></strong></li>\\n</ul>\\n<p>Some of the reputed platforms are mentioned below:</p>\\n<ol>\\n<li style=\"list-style-type: none;\">\\n<ol>\\n<li>BitBns</li>\\n<li>CoinDCX</li>\\n<li>Wazir X</li>\\n<li>CoinSwitch Kuber</li>\\n</ol>\\n</li>\\n</ol>\\n<p>There is a simple <a href=\"https://www.bajajfinservmarkets.in/kyc.html\">KYC</a> process to register and then one can start purchases after linking your bank accounts/ UPI IDs.</p>\\n\\n', 'category': 'investment'}\n",
      "\n",
      "{'title': 'Top 4 Benefits of a Personal Loan', 'content': '\\n  \\n  <p>All of us want a life of luxury with the confidence of financial security. A life where we live healthy and fulfill all our dreams. Sometimes, in order to achieve our life goals, we would want to borrow money. In such cases, financial instruments like Personal Loans can come to our rescue. A Personal Loan is a great tool when you need money on an immediate basis or do not want to borrow from friends or family. A Personal Loan is also a convenient option because you can repay it in pocket-friendly instalments, over a period of time and you can get the funds very quickly with little to no paperwork. In short, Personal Loan helps you fulfill your financial requirements by offering quick and easy access to lumpsum cash. Today, numerous banks and NBFCs provide Personal Loans at affordable interest rates, to help you live your life without any stress. It has got some amazing features which makes it the sought-after financial option among people. Let us take a look:</p>\\n<ul>\\n<li>\\n<h3><strong>High Loan Amount</strong></h3>\\n</li>\\n</ul>\\n<p>Our personal needs and requirements that include travelling, home renovation, child education, can bring in a lot of expenses. Keeping this in mind, financial institutions offer loans of higher amounts. Most of the banks and NBFCs provide loans as high as Rs. 25 Lakhs. Typically, the loan amount that gets approved for disbursal depends on credit score, repayment history, ability to repay and other additional information of the borrower. Also, the above mentioned factors will also decide the interest amount that you will need to pay along with the principal amount. Getting a loan at lower interest rates will help you save money and manage your repayment better.</p>\\n<ul>\\n<li>\\n<h3><strong>No Collateral</strong></h3>\\n</li>\\n</ul>\\n<p>The most hassle-free feature of Personal loans is that it can be availed without having to pledge a collateral. A collateral is any form of asset that needs to be provided to the bank/NBFC, as a security against the loan. The collateral can be a vehicle or your property. For Personal Loan, there is no need of pledging any asset and you can avail it without any burdens.</p>\\n<ul>\\n<li>\\n<h3><strong>Flexible Repayment Tenure</strong></h3>\\n</li>\\n</ul>\\n<p>Once you avail the loan, you will need to repay it in Equated Monthly Instalments (EMIs). The repayment tenure of Personal Loans is quite flexible and typically ranges between 1-5 years. This means, you can select the period over which you want to repay your EMIs as per your financial stability.</p>\\n<ul>\\n<li>\\n<h3><strong>Varied Uses</strong></h3>\\n</li>\\n</ul>\\n<p>A Personal Loan can be used for various types of purposes or requirements. Typically, lenders don’t ask to specify the reason for which the loan is being borrowed. The various reasons for which you can take a Personal Loan are travel, wedding, home renovation, medical emergency, education, debt consolidation and much more. To elaborate, Personal Loan can help you pay for all your travel expenses like booking of flights, accommodation etc. It can also help you with your wedding related expenses like catering, outfits, accommodation, and even gifts. With a Personal Loan, you can give your home a complete makeover by buying new furniture or having your walls refurbished and painted with vibrant hues. You can also consolidate all your debts into a single loan with a Personal Loan.</p>\\n<h2><strong>Conclusion</strong></h2>\\n<p>A Personal Loan is a great financial tool in times of crises and when you want to fulfill a lifelong dream. So if you are looking for a Personal Loan, head to Finserv MARKETS today! Partnered with multiple lenders, you get the opportunity to choose from a varied range of lending products, on the platform. You can avail a loan as high as Rs. 25 Lakhs. The entire application process is completely online and you don’t have to pledge any collateral as well. The documentation process is completely minimal. The repayment tenure ranges between 1 year to 5 years and you can get your loan disbursed in just 24 hours. What’s more! You can track your loan status on the Customer Portal or Finserv MARKETS App. You can also check the amazing range of Personal Loan offers of various financial institutions, we have partnered with, on the App. So, apply for a Personal Loan on Finserv MARKETS today and live life the way you want.</p>\\n\\n', 'category': 'loans'}\n",
      "\n",
      "{'title': 'No More Waiting for End of Season Sales - Grab great Deals with the Bajaj Finserv EMI Network Card', 'content': '\\n  \\n  <p>Online shopping is fun, but what makes it truly exciting are the amazing deals and discounts on your favorite products. Especially during the EOSS (End of Season Sale) on the online shopping platforms where you get access to some of the most exciting range of offers on almost every product. But why wait for the year to end, when you can already enjoy the best offers and easy financing all year round with the <a href=\"https://www.bajajfinservmarkets.in/emi-card/bajaj-finserv-emi-network-card-benefits-and-features.html\">Bajaj Finserv EMI Network Card</a>. Yes, you read it right! The card comes with a plethora of benefits such as 100% financing option with no cost EMIs. With the EMI Card, you can shop your heart out, without being worried about the financial stress or draining your savings in one go. So, ‘shop till you drop’ and get to save on all your purchases with <a href=\"https://www.bajajfinservmarkets.in/emi-card/bajaj-finserv-emi-network-card-benefits-and-features.html\">Bajaj Finserv EMI Network Card</a> only on Finserv MARKETS.</p>\\n<h2><b>Exclusive Benefits of EMI Card</b></h2>\\n<ol>\\n<li style=\"font-weight: 400;\">You can <a href=\"https://www.bajajfinservmarkets.in/emi-card/how-to-apply-for-bajaj-finserv-emi-network-card.html\">apply for Bajaj Finserv EMI Network card</a> without having to undergo any tedious documentation process.</li>\\n<li style=\"font-weight: 400;\">The EMI card comes with a pre-approved loan limit of INR 4 Lakhs, which can be used to purchase small as well as big-ticket items with ease.</li>\\n<li style=\"font-weight: 400;\">The credit amount used on your card can be repaid over a flexible tenure of time, ranging between 3 to 24 months.</li>\\n<li style=\"font-weight: 400;\">The card gives you the freedom to shop on <a href=\"https://www.bajajfinservmarkets.in/emi-card/what-is-no-cost-emi.html\">No Cost EMI</a> which makes it an interest-free credit. For say, when you use the Bajaj Finserv EMI Network Card for online shopping on Amazon it’ll give you an option to choose the <a href=\"https://www.bajajfinservmarkets.in/emi-card/no-cost-emi-on-amazon.html\">no cost EMI in Amazon</a> and the interest on the Amazon EMI will be converted to zero and you would pay only the actual prices of the products. Just like no cost EMI Amazon, there is also <a href=\"https://www.bajajfinservmarkets.in/emi-card/no-cost-emi-on-flipkart.html\">no cost EMI Flipkart</a> and many more.</li>\\n<li style=\"font-weight: 400;\">It also comes with a loan foreclosure option without having to pay for the foreclosure charges. You only need to pay your first no-cost EMI, to be eligible for the same.</li>\\n<li style=\"font-weight: 400;\">Along with the no cost EMI feature, there is also a zero down payment option on the premium products.</li>\\n<li style=\"font-weight: 400;\">You can manage and track your EMI card from the <a href=\"https://www.bajajfinservmarkets.in/emi-card/bajaj-finserv-customer-portal.html\">Bajaj customer portal </a>by completing the <a href=\"https://www.bajajfinservmarkets.in/emic/\">Bajaj Finserv login</a> process.</li>\\n</ol>\\n<h2><b>Where Can You Avail Bajaj Finserv EMI Network Card Offers and Deals?</b></h2>\\n<p>You can enjoy great deals and offers on several online partner websites through the <a href=\"https://www.bajajfinservmarkets.in/emi-card/bajaj-finserv-emi-network-card.html\">Bajaj Finserv EMI Network Card</a>. The popular e-commerce platforms include Flipkart, Amazon, MakeMyTrip, Goibibo, Yatra, EaseMyTrip, Samsung, Xiaomi, Vivo, Realme, OnePlus, Oppo, iQOO, Pepperfry, Seniority, cure.fit, WhiteHat Jr, d2h, DishTV, and many more. Also, on the Bajaj Finserv EMI Store, you can avail <a href=\"https://www.bajajfinservmarkets.in/emi-card/bajaj-finserv-emi-network-card-offers.html\">Bajaj Finserv EMI Network Card offers, </a>deals and discounts on electronic goods, home appliances, gym equipment, audio devices, and a lot more.</p>\\n<p>So what are you waiting for? Go ahead and make the most of the End of Season Sale With the Bajaj Finserv EMI Network Card. Tick those items off the wishlist without worrying about the finance. Apply for Bajaj Finserv EMI Network Card today!</p>\\n<h3><strong>Read More on Offers with the Bajaj Finserv EMI Network Card:</strong></h3>\\n<p><a href=\"https://www.bajajfinservmarkets.in/discover/journals/blogs/emi-card/bajaj-finserv-emi-network-card-offers/\">Exciting Offers with the Bajaj Finserv EMI Network Card</a></p>\\n<p><a href=\"https://www.bajajfinservmarkets.in/discover/journals/blogs/emi-card/christmas-offers-on-bajaj-finserv-emi-network-card/\">Christmas Offers with the Bajaj Finserv EMI Network Card</a></p>\\n<p><a href=\"https://www.bajajfinservmarkets.in/discover/journals/blogs/emi-card/new-year-2020-offers-on-bajaj-finserv-emi-network-card/\">New Years Offers with the Bajaj Finserv EMI Network Card</a></p>\\n<p><a href=\"https://www.bajajfinservmarkets.in/discover/journals/blogs/emi-card/unlock-shopping-offers-with-bajaj-finserv-emi-network-card-customer-portal/\">Unlock Online Shopping Offers with the Bajaj Finserv EMI Network Card</a></p>\\n\\n', 'category': 'emi-card'}\n",
      "\n",
      "{'title': \"Dear Millennials, here's how to deal with financial planning in a world without pensions\", 'content': '\\n  \\n  <p>Retirement was so simple for the Baby Boomers and GenX. Gone are the days where a quantifiable, largely-risk-free pension was offered against a career-long reciprocal loyalty between employer and the employee. But today, it is widely recognized that the attitude of the millennials towards pensions and savings is different from that of the previous generations. They value experiences and spending over savings.</p>\\n<p>A recent Deloitte survey revealed that millennials leave their jobs within two years of joining due to a lack of loyalty to their employers. With non-linear career paths, characterized by working on multiple jobs or frequent job changes, the creation of a single large pension corpus is nearly impossible. However, prudent financial planning can help create a big corpus of pension. Here are a few quick tips to help you arrange for a comfortable life in the post-retirement phase.</p>\\n<h2><b>Early Bird Planning</b></h2>\\n<p>Early retirement planning is essential as it takes a huge amount of time to build a good amount of financial backup. Think and collect investment ideas that can help you reach your financial goal of retirement. Today, there are many investment plans available in the market. Compare the plans and select the one that suits best according to your requirements and start investing in it. A review of your investment plan once in every 3 years is also recommended. This would give you a fair idea about your returns or alternative investment options that can potentially multiply your savings quickly. Saving is key to investing and if you fail to invest, you won’t be able to accumulate the amount of money you’re expecting by the time you retire.</p>\\n<h2><b>Follow The Plan Religiously</b></h2>\\n<p>It’s never too late to start saving and the best way to do so is to invest in different investment plans. Take pit stops regularly and check them periodically if the instruments that you’ve chosen are performing as per plan or it needs a retweak. So while the process of investing should never stop, it is necessary to keep checking and realigning as per market situations. For that, you’ll need to stick to the devised investment plan and execute it properly until your financial goal is achieved. Ensure that you do not divert your retirement savings or stop saving abruptly.</p>\\n<h2><b>Choose Automated Savings</b></h2>\\n<p>The automated investing route is a time tested way to help achieve your retirement goals. Instead of investing a lump-sum amount periodically, invest in systematic investment plans (SIPs) that allow you to pay small amounts on a monthly basis through Electronic Clearing Service (ECS). Mutual Funds are the best investment tools wherein a number of entities/people (investors) share a common financial goal. Purchasing mutual funds online enables you to choose the ECS payment option, and it is also recommended to&nbsp;<span style=\"color: #0000ff;\"><u><a href=\"https://www.bajajfinservmarkets.in/Investment/mutual-fund.html\" target=\"_blank\" rel=\"noopener noreferrer\">invest in mutual funds</a></u></span>&nbsp;from trusted online platforms like Finserv MARKETS. At Finserv MARKETS, you can open a free mutual fund account with no brokerage involved, and invest in top-rated mutual funds that suit your investment goals with zero commission. With a mutual fund account, you can opt for systematic investment plans (SIPs) of top-rated mutual funds offered by players like DSP, Aditya Birla, HDFC, L&amp;T, and many more. You’ll also have access to your detailed portfolio summaries and insights. Going with the ECS option will deduct your amount automatically on a pre-decided date every month. This process can go on for a fixed number of months or can continue till the time the investor wants to stop it.</p>\\n<h2><b>Be Debt Free</b></h2>\\n<p>It is important to get rid of any debts as you reach your retirement. In a world where social media fuels consumption, it is essential that you periodically review your expenses to ensure that a large amount of money is not going towards meaningless expenses. Keep your expenses in check by defining the right budget. Maintaining a budget is the best way to keep a general track of where your money is going, and cutting back when it exceeds pre-determined limits.</p>\\n<h2><b>Bracing Up For The Challenges!</b></h2>\\n<p>It is quite predictable that, by the time the millennial generation reaches their retirement age, health would become the prime concern and robots may look after the elderly. Despite this, enjoying life post-retirement requires careful planning long before you reach at the stage. You need to understand that one day you’ll stop drawing your monthly salary, and with no chance of a pension at all, the highest priority is to just start building the post-retirement corpus. Once started, continuously feed the pot until it becomes sufficient enough to enjoy your retirement. It is therefore critical for millennials to think about the financial priorities and start saving immediately. Right financial knowledge is the central to achieve this.</p>\\n<p><em>“Finserv MARKETS, a subsidiary of Bajaj Finserv, is a one-stop digital marketplace that has been created for consumers on the go. Finserv MARKETS offers a curated set of financial services products from multiple partners and across multiple categories like Loans, Insurance, Payments, and Investments along with an EMI Store, which offers zero interest EMI to help meet the lifestyle needs of its customers. At Finserv MARKETS, we understand that every individual is different. And that’s why we have invested in creating a proposition – Offers You Value. A value proposition that ensures you get offers which are tailor made for you. Be it in helping you achieve your financial life goals or offering you the latest gadgets, we strive to offer what you are looking for. From simple and fast loan application processes to seamless and hassle-free claim-settlements, from no cost EMIs to 4 hours product delivery, we work towards fulfilling all your personal and financial needs. What’s more! Now enjoy the same benefits in just one click with our Finserv MARKETS App.”</em></p>\\n\\n', 'category': 'investment'}\n",
      "\n",
      "{'title': 'Digitization in Lending:Post the Pandemic Era', 'content': '\\n  \\n  <h2><strong>Introduction</strong></h2>\\n<p>Prior to the pandemic, the lending industry was growing rapidly. However, in just a few months, we experienced a rate of disruption that changed everything that was common in financial services. Apart from rising consumer expectations and rising competition from non-traditional financial institutions, many banks emerged stronger than ever since the 2008 financial crisis, backed by technology. The pandemic has also changed the way financial institutions approach their customer engagement. Since the loan trip is a combination of physical and digital processes, there is a rapid movement towards a complete digital journey.</p>\\n<p>In India, proactive interventions to increase the demand for credit include heavy infusion of capital, liquidity breathers and loan moratorium. As observed during the pandemic, despite the above interventions, lenders and other financial institutions use modern digital technology to reach out to the customers.</p>\\n<p>The following describes how the credit sector will explode in the near future when lenders provide better skills with the advent of digitization.</p>\\n<p>Government interventions create a platform for digital realization of the need for a credit line</p>\\n<p>Gone are the days when you had to face the queue, and travel from bank to bank to <a title=\"Loans at Finserv MARKETS\" href=\"https://www.bajajfinservmarkets.in/loans.html\">apply for a loan</a>. Banks and NBFC’s embrace digitization alongside FinTechs that are not only limited to qualifications of applicants but cover fulfilment too.</p>\\n<p>The Government of India has made significant interventions such as the payment ecosystem and the Consent Architecture for data sharing, which enable digital-led lending processes.</p>\\n<p>The Reserve Bank of India (RBI) has also played a key role with the launch of video <a href=\"https://www.bajajfinservmarkets.in/kyc.html\">KYC</a> Process. Video-based (KYC) processes provide an alternative, reliable and economically viable way to validate customers and facilitate their onboarding. Many banks and financial institutions can use this approach to make the customer onboarding process completely touch-free.</p>\\n<p>With online financial platforms like Finserv MARKETS, processing loan applications end-to-end has become quite seamless. This digital platform has two components: Workflow (which provides processes and helps in information capturing) and Business Rules Engine (to make the credit decision work).</p>\\n<p>Business Rules Engine can process a variety of information, data scores, creditors’ credit policies, analytical models among others. With this control in hand, we at Finserv MARKETS are able to increase market competitiveness and build in-house Machine Learning based customer evaluation methods by periodically reviewing data stored on the platform.</p>\\n<p>Lending institutions will have to give priority to realizing the lifetime value of their existing clients. Identifying this value can be a key driver in building better interactions that increases customer loyalty and thus their value for relationships.</p>\\n<p>Understanding customer lifetime profitability using behavioral analytics using Credit Bureau data is a strong driver. Lenders have the opportunity to periodically review their customers by overlaying the bureau data and improve their reach by building strong propensity models.</p>\\n<p>The advantage of adopting this practice is that there is no need to promote the brand to the existing customer.</p>\\n<p>As we are heading towards a digital economy, it is a good time for the lenders to re-examine how technology, data, and digital evaluation of customers can boost their future growth and competitiveness. The after effects of the pandemic might reinstate the digital adoption even more than what demonetization had forced it to.</p>\\n<p></p><center><a href=\"https://www.bajajfinservmarkets.in/apply-for-personal-loan/\"><img loading=\"lazy\" class=\"alignnone wp-image-589231 size-full\" src=\"https://www.bajajfinservmarkets.in/discover/wp-content/uploads/2019/08/Apply-Now-CTA.png\" alt=\"Apply Now\" width=\"126\" height=\"52\"></a></center><center><a href=\"https://www.bajajfinservmarkets.in/loans/check-cibil-score.html\"><img loading=\"lazy\" class=\"alignnone size-full wp-image-590049\" src=\"https://www.bajajfinservmarkets.in/discover/wp-content/uploads/2020/01/Check-CIBIL-Score.png\" alt=\"Check CIBIL Score\" width=\"175\" height=\"53\"></a></center><br>\\n<em>“Finserv MARKETS, a subsidiary of Bajaj Finserv, is a one-stop digital marketplace that has been created for consumers on the go. It offers 500+ financial and lifestyle products, all at one place. At Finserv MARKETS, we understand that every individual is different. And that’s why we have invested in creating a proposition – Offers You Value. A value proposition that ensures you get offers which are tailor made for you. We also offer an amazing product range and unique set of online offers across Loans, Insurance, Investment, Payments and an exclusive EMI store. Be it in helping you achieve your financial life goals or offering you the latest gadgets, we strive to offer what you are looking for. From simple and fast loan application processes to seamless and hassle-free claim-settlements, from no cost EMIs to 4 hours product delivery, we work towards fulfilling all your personal and financial needs. What’s more! Now enjoy the same benefits in just one click with our Finserv MARKETS App.”</em><p></p>\\n\\n', 'category': 'loans'}\n",
      "\n",
      "{'title': 'Hybrid Model of Lending: Is this the future', 'content': '\\n  \\n  <h2><strong>Introduction</strong></h2>\\n<p>In India, over the past few years, there has been a paradigm shift in consumer behaviour, with regards to financial transactions and the rise of fintech companies that have allowed this change. That is in particular with lending. In general, lending has five phases – customer onboarding, underwriting, disbursement, repayment and collection. The digitisation of these processes has had mixed results around the world, and what we have seen evolving is the hybrid model, where the combination of technology and feet on street offers a very practical and scalable proposition.</p>\\n<p></p><center><a href=\"https://www.bajajfinservmarkets.in/apply-for-personal-loan/\"><img loading=\"lazy\" class=\"alignnone wp-image-589231 size-full\" src=\"https://www.bajajfinservmarkets.in/discover/wp-content/uploads/2019/08/Apply-Now-CTA.png\" alt=\"Apply Now\" width=\"126\" height=\"52\"></a></center><p></p>\\n<h2><strong>Customer Onboarding</strong></h2>\\n<p>Digital customer onboarding process varies depending on Personal or SME loan. Industry focus on CX (customer experience) and UX (user experience) has made the process of applying for a Salaried Personal Loan seamless. SMEs, on the other hand, have mixed experiences, most of which continue to depend on Direct Sales Agents or e-referral partners. However, SMEs seeking small ticket loans have been able to benefit from this digitization of personal loan applications.</p>\\n<h2><strong>Underwriting&nbsp;</strong></h2>\\n<p>With availability of alternate data like social behaviour, transactional SMS information fetched from mobile, etc are enabling systems to underwrite customers eliminating the need of manual underwriting in Salaried Personal Loan application. The introduction of GST has allowed lenders to underwrite <a title=\"MSME Loan Online\" href=\"https://www.bajajfinservmarkets.in/loans/business-loan/business-loan-for-sme-msme.html\">MSME loan</a> better using a variety of models.</p>\\n<p>However, every model relies on basic data availability to predict customer’s repayment capabilities. The pandemic, however, has shaken the system due to several factors – delays in GST data, unavailability of moratorium information. As under-writing is a challenge in the short term to -medium, we will move to a world where more checks and additional information is required of borrowers to deal with risk concerns. Most lenders, it is believed, will use a mix of manual and automated underwriting model until they are confident that the macroeconomic condition has improved.</p>\\n<p>The introduction of Open Credit Enablement Network and the use of Account Aggregation infrastructure are the ongoing efforts to simplify, automate underwriting and reduce TAT for the borrowers. There is a long way to go to see how this unfolds but efforts made are surely in the right direction.</p>\\n<h2><strong>Disbursement, Repayment and Collection&nbsp;</strong></h2>\\n<p>Disbursement and repayment are the two aspects of borrowing where technology has played an important role in instant credit and debits. Borrowers can get loans in just seconds. Lenders know, on a given date, how many borrowers have paid and how many have failed so they set up accounting strategies for quick collection.</p>\\n<p>Collection from default customers will continue to be through the hybrid model. Lenders will need models to predict and identify high-risk customers but will also need to reach out to customers through the feet on street approach and understand the actual customer issues. The key to building a strong digital borrowing process is finding the right balance between technology and feet on street. Industry experts are now convinced that there is a need for a close collaboration between banks and FinTechs-NBFCs.</p>\\n<h2><strong>Partnership with Fintech-NBFCs</strong></h2>\\n<p>Cooperation between Lenders and FinTech-NBFCs is about to last. As FinTechs continue to develop technologies that will allow SMEs and individuals to work effectively using Personal Finance Management platforms like Money Manager on Finserv MARKETS, financial institutions will be able to access alternate data and evaluate income, spends and repayment behaviours. Indian Fintechs have had to deal with challenging macro events since its inception: demonetization, GST, and now pandemic. Learning has made the process more robust and financial institutions will now have greater confidence to collaborate with Fintechs.</p>\\n<p>On Finserv MARKETS, you can avail a <a title=\"Personal Loan Online\" href=\"https://www.bajajfinservmarkets.in/loans/personal-loan.html\">Personal Loan</a> of up to Rs. 25 Lakhs through 100% online process. The other benefits include no collateral requirement, minimal documentation and flexible repayment tenures. So, head to Finserv MARKETS today!</p>\\n<p></p><center><a href=\"https://www.bajajfinservmarkets.in/apply-for-personal-loan/\"><img loading=\"lazy\" class=\"alignnone size-full wp-image-589231\" src=\"https://www.bajajfinservmarkets.in/discover/wp-content/uploads/2019/08/Apply-Now-CTA.png\" alt=\"Apply Now\" width=\"126\" height=\"52\"></a></center><br>\\n<em>“Finserv MARKETS, a subsidiary of Bajaj Finserv, is a one-stop digital marketplace that has been created for consumers on the go. It offers 500+ financial and lifestyle products, all at one place. At Finserv MARKETS, we understand that every individual is different. And that’s why we have invested in creating a proposition – Offers You Value. A value proposition that ensures you get offers which are tailor made for you. We also offer an amazing product range and unique set of online offers across Loans, Insurance, Investment, Payments and an exclusive EMI store. Be it in helping you achieve your financial life goals or offering you the latest gadgets, we strive to offer what you are looking for. From simple and fast loan application processes to seamless and hassle-free claim-settlements, from no cost EMIs to 4 hours product delivery, we work towards fulfilling all your personal and financial needs. What’s more! Now enjoy the same benefits in just one click with our Finserv MARKETS App.”</em><p></p>\\n\\n', 'category': 'loans'}\n",
      "\n",
      "{'title': 'How Loan Restructuring Impacts CIBIL Score and Eligibility', 'content': '\\n  \\n  <p>Reserve Bank of India (RBI) proposed a one-time loan restructuring on loans to ease the stress on borrowers who are facing financial difficulties. RBI allowed a one-time restructuring of loans after the six months’ moratorium facility that ended in the month of August. The RBI included personal loans for loan restructuring, they also stated that standard loan accounts that were not in default for more than 30 as on March 1, 2020, will be considered for the resolution plan and the process will be cited not later than December 31, 2020, and will be implemented within 90 days from the date of invocation.</p>\\n<p>The regulator allowed banks and lending institutions to retain these loans as “standard” on their books, which helps in lowering their non-performing assets (NPAs). Earlier banks would restructure loans given to retail borrowers only after they turned into non-performing assets (NPA). Lenders allowed loan restructuring only after they were convinced that the borrower intends to repay but needs some time and concession. Moreover, now it will be reported as “restructured” to the credit bureaus, these loans will get reported as restructured and may also have an impact on the CIBIL score and <a href=\"https://www.bajajfinservmarkets.in/loans/personal-loan/personal-loan-eligibility-calculator.html\">loan eligibility</a> of the borrowers.</p>\\n<h2><strong>RBI Restructuring Plans</strong></h2>\\n<p>The following are the RBI’s resolution plans for loan restructuring:</p>\\n<ul>\\n<li>Rescheduling of loan repayment tenures</li>\\n<li>Any interest rate charged, or to be accrued will be converted into another credit facility</li>\\n<li>Allowing a maximum of 2 years moratorium on loans based on the income of the borrower</li>\\n<li>The loan restructuring parameters will cover aspects related to leverage, liquidity, debt serviceability etc.</li>\\n</ul>\\n<h2><strong>Loan Restructuring Eligibility</strong></h2>\\n<p>To avail the resolution plan you first need to check loan eligibility for restructuring</p>\\n<ul>\\n<li>Loans applied with non-banking organisations (NBFCs) are eligible for restructuring.</li>\\n<li>Organisations that are eligible for loan restructuring plan are Commercial Banks, Small Finance Banks, Local Area Banks and Regional Rural Banks, all Primary (Urban) Co-operative Banks/State Co-operative Banks/ District Central Co-operative Banks, Non-Banking Financial Companies and All-India Financial Institutions.</li>\\n</ul>\\n<h2><strong>What Can Borrowers Do About It?</strong></h2>\\n<p>In the current arrangement for loan restructuring lenders don’t need to declare restructured loans as negligent, lowering NPAs, but the borrowers will be stressed with a lower credit score. Borrowers opting for loan restructuring can’t do much about their credit score. However, you can work towards improving it by ensuring that your EMIs are paid on time. Avoid availing any new loans, if possible, and gradually bring down your credit utilization to 30-40%. Credit utilisation shows the percentage of credit the borrower has availed of the total credit facility available. Borrowers will need to pay a fee for loan restructuring and the amount of interest a lender loses during the restructuring period will be added to the principal amount.</p>\\n<p>You can consider loan restructuring if you are unable to make repayments towards your loans due to financial shortage. However, this decision may depend on your overall financial situation and the types of loan restructuring your lender offers. Unlike a moratorium, where the loan restructuring can be availed by any borrower. In the RBIs framework, the lenders get to decide the relief that they want to provide to their borrowers. However, it may harm your CIBIL score because you are defaulting on the original loan agreement by agreeing to loan restructuring.</p>\\n<p>To cope with your current financial circumstances, you can get financial assistance from numerous lending institutions offering loans at competitive interest rates. Apply for a loan at Finserv MARKETS to get the best deal on <a href=\"https://www.bajajfinservmarkets.in/loans/personal-loan.html\">personal loans</a>. The online application process for loans is quick and easy. You can avail a loan and track the status of your application with the Finserv MARKETS app. On approval of your loan, the funds get deposited to your bank account within 24 hours. At Finserv MARKETS you also get&nbsp; flexible repayment tenure of 12 to 60 months on personal loans. To calculate your loan EMIs, you can take the help of a personal loan EMI calculator available online on the website or the app. The EMI calculator will help you get an exact monthly outflow of the amount that is to be paid every month towards your loan. Along with personalized pre-approved offers, you also get added services like a <a href=\"https://www.bajajfinservmarkets.in/loans/check-cibil-score.html\">CIBIL score check</a> and a free Financial Health Check Report (FCHR).</p>\\n<p><em>“Finserv MARKETS, a subsidiary of Bajaj Finserv, is a one-stop digital marketplace that has been created for consumers on the go. It offers 500+ financial and lifestyle products, all at one place. At Finserv MARKETS, we understand that every individual is different. And that’s why we have invested in creating a proposition – Offers You Value. A value proposition that ensures you get offers which are tailor made for you. We also offer an amazing product range and unique set of online offers across Loans, Insurance, Investment, Payments and an exclusive EMI store. Be it in helping you achieve your financial life goals or offering you the latest gadgets, we strive to offer what you are looking for. From simple and fast loan application processes to seamless and hassle-free claim-settlements, from no cost EMIs to 4 hours product delivery, we work towards fulfilling all your personal and financial needs. What’s more! Now enjoy the same benefits in just one click with our Finserv MARKETS App.”</em></p>\\n\\n', 'category': 'loans'}\n",
      "\n",
      "{'title': 'Add colors to your Black Friday shopping with the Bajaj Finserv EMI Network Card', 'content': '\\n  \\n  <p><span style=\"font-weight: 400;\">On November 27th the biggest retailers are bringing a Mega Black Friday sale over to you. Black Friday deals are everywhere right now \\u200a—\\u200aAmazon, Flipkart, and Samsung, to name a few. A few of you lucky shoppers will have the chance to make the most of your savings this Black Friday, with the&nbsp;<a tabindex=\"-1\" href=\"https://www.bajajfinservmarkets.in/emi-card/bajaj-finserv-emi-network-card.html\" target=\"_blank\" rel=\"external noopener noreferrer\">Bajaj Finserv EMI network card</a>.</span></p>\\n<p><span style=\"font-weight: 400;\">The Bajaj Finserv EMI network card offers you to avail of these heavily discounted items at easy no-cost EMIs, by converting your purchase into a pre-approved loan. With the Bajaj Finserv EMI Network Card, you can shop across 84,200+ partner stores and browse over a million products all over India. You can also shop using the EMI Card across the biggest online retail stores like Amazon, Flipkart, Samsung, MakeMyTrip, Pepperfry, Goibibo, Yatra, and many more.&nbsp;</span></p>\\n<p><span style=\"font-weight: 400;\">The Amazon Black Friday sale is just fifteen days away. However, expect new Black Friday deals released every hour on their online portal across the entire Black Friday week. You can also access Amazon’s countdown to their best Black Friday deals starting November 1st. Expect the most sought after items at spectacularly low prices. To discover these spectacular deals, keep an eye on the countdown banner when you visit Amazon through your desktop.&nbsp;</span></p>\\n<p><span style=\"font-weight: 400;\">Flipkart is also likely to offer fabulous deals this Black Friday 2020, particularly on the weekend after and also on the following Monday which is popularly called Cyber Monday. To access these jaw-dropping deals, click on ‘“Offer zone” through Flipkart’s homepage to discover the best Black Friday deals of that year.&nbsp;</span></p>\\n<h2><b>How can the Bajaj Finserv EMI Network Card Help?</b></h2>\\n<p><span style=\"font-weight: 400;\">Even with the hottest items discounted massively, you may find many of these outside your budget especially when you are buying new electronics, cars, appliances, or more. With the Bajaj Finserv EMI Network Card, you can enjoy a pre-approved loan amount as high as ₹1.5 lakhs. Click through any of the online retailers and pick the Bajaj Finserv EMI card as your mode of payment to avail of this benefit.&nbsp;</span></p>\\n<p><span style=\"font-weight: 400;\">You also get the benefit that your repayment tenure is highly customizable to your preferences. So not only are your huge Black Friday 2020 purchases converted into easy </span><a href=\"https://www.bajajfinservmarkets.in/emi-card/what-is-no-cost-emi.html\"><span style=\"font-weight: 400;\">no cost EMIs</span></a><span style=\"font-weight: 400;\"> but now you can choose a repayment tenure based on what is most convenient for you. The Bajaj Finserv repayment tenures range anywhere between three to 24 months long, making your big-budget purchases this Black Friday truly wallet-friendly.&nbsp;</span></p>\\n<p><span style=\"font-weight: 400;\">So now, let’s say the only thing stopping you is that you don’t want to </span><a href=\"https://www.bajajfinservmarkets.in/emi-card/how-to-apply-for-bajaj-finserv-emi-network-card.html\"><span style=\"font-weight: 400;\">apply for the Bajaj Finserv EMI network card</span></a><span style=\"font-weight: 400;\"> due to a long waiting process. Fortunately for you, this problem does not exist with the </span><a href=\"https://www.bajajfinservmarkets.in/emic/#/login?prodCode=VASEC01\"><span style=\"font-weight: 400;\">Bajaj Finserv login</span></a><span style=\"font-weight: 400;\"> process. You can apply for the Bajaj Finserv EMI network card online, fill out the application that requires minimal documentation, and get approval for the same within minutes. Are you ready for those Black Friday deals yet? Get a Bajaj Finserv EMI Network Card so you can truly make the most of these fantastic deals.&nbsp;</span></p>\\n<h3><b>Read More on Offers with the Bajaj Finserv EMI Network Card:</b></h3>\\n<p><a href=\"https://www.bajajfinservmarkets.in/discover/journals/blogs/emi-card/bajaj-finserv-emi-network-card-offers/\"><span style=\"font-weight: 400;\">Exciting Offers with the Bajaj Finserv EMI Network Card</span></a></p>\\n<p><a href=\"https://www.bajajfinservmarkets.in/discover/journals/blogs/emi-card/christmas-offers-on-bajaj-finserv-emi-network-card/\"><span style=\"font-weight: 400;\">Christmas Offers with the Bajaj Finserv EMI Network Card</span></a></p>\\n<p><a href=\"https://www.bajajfinservmarkets.in/discover/journals/blogs/emi-card/new-year-2020-offers-on-bajaj-finserv-emi-network-card/\"><span style=\"font-weight: 400;\">New Years Offers with the Bajaj Finserv EMI Network Card</span></a></p>\\n<p><a href=\"https://www.bajajfinservmarkets.in/discover/journals/blogs/emi-card/unlock-shopping-offers-with-bajaj-finserv-emi-network-card-customer-portal/\"><span style=\"font-weight: 400;\">Unlock Online Shopping Offers with the Bajaj Finserv EMI Network Card</span></a></p>\\n<p><em>Finserv MARKETS, a subsidiary of Bajaj Finserv, is a one-stop digital marketplace that has been created for consumers on the go. It offers 500+ financial and lifestyle products, all at one place. At Finserv MARKETS, we understand that every individual is different. And that’s why we have invested in creating a proposition – Offers You Value. A value proposition that ensures you get offers which are tailor made for you. We also offer an amazing product range and unique set of online offers across Loans, Insurance, Investment, Payments and an exclusive EMI store. Be it in helping you achieve your financial life goals or offering you the latest gadgets, we strive to offer what you are looking for. From simple and fast loan application processes to seamless and hassle-free claim-settlements, from no cost EMIs to 4 hours product delivery, we work towards fulfilling all your personal and financial needs. What’s more! Now enjoy the same benefits in just one click with our Finserv MARKETS App.</em></p>\\n\\n', 'category': 'emi-card'}\n",
      "\n"
     ]
    }
   ],
   "source": [
    "for blog in blogs:\n",
    "    print(blog)\n",
    "    print()"
   ]
  },
  {
   "cell_type": "code",
   "execution_count": null,
   "metadata": {},
   "outputs": [],
   "source": []
  },
  {
   "cell_type": "code",
   "execution_count": null,
   "metadata": {},
   "outputs": [],
   "source": []
  },
  {
   "cell_type": "code",
   "execution_count": null,
   "metadata": {},
   "outputs": [],
   "source": []
  },
  {
   "cell_type": "code",
   "execution_count": null,
   "metadata": {},
   "outputs": [],
   "source": [
    "driver.quit()"
   ]
  },
  {
   "cell_type": "code",
   "execution_count": null,
   "metadata": {},
   "outputs": [],
   "source": []
  }
 ],
 "metadata": {
  "kernelspec": {
   "display_name": "Python 3",
   "language": "python",
   "name": "python3"
  },
  "language_info": {
   "codemirror_mode": {
    "name": "ipython",
    "version": 3
   },
   "file_extension": ".py",
   "mimetype": "text/x-python",
   "name": "python",
   "nbconvert_exporter": "python",
   "pygments_lexer": "ipython3",
   "version": "3.8.5"
  }
 },
 "nbformat": 4,
 "nbformat_minor": 4
}
